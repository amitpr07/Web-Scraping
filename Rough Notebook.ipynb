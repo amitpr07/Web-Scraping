{
 "cells": [
  {
   "cell_type": "markdown",
   "id": "76cc773c",
   "metadata": {},
   "source": [
    "# Scapping 'toscrape.com'"
   ]
  },
  {
   "cell_type": "markdown",
   "id": "a5af7297",
   "metadata": {},
   "source": [
    "### First scrapping books.toscrape.com"
   ]
  },
  {
   "cell_type": "code",
   "execution_count": 1,
   "id": "110b3bae",
   "metadata": {},
   "outputs": [],
   "source": [
    "url='https://books.toscrape.com/'"
   ]
  },
  {
   "cell_type": "code",
   "execution_count": 4,
   "id": "fbec871c",
   "metadata": {},
   "outputs": [],
   "source": [
    "import requests"
   ]
  },
  {
   "cell_type": "code",
   "execution_count": 3,
   "id": "8efcc5ad",
   "metadata": {},
   "outputs": [],
   "source": [
    "res=requests.get(url)"
   ]
  },
  {
   "cell_type": "code",
   "execution_count": 4,
   "id": "f2c0d5c7",
   "metadata": {},
   "outputs": [
    {
     "data": {
      "text/plain": [
       "200"
      ]
     },
     "execution_count": 4,
     "metadata": {},
     "output_type": "execute_result"
    }
   ],
   "source": [
    "res.status_code"
   ]
  },
  {
   "cell_type": "code",
   "execution_count": 5,
   "id": "d3dc0eb5",
   "metadata": {},
   "outputs": [
    {
     "data": {
      "text/plain": [
       "51294"
      ]
     },
     "execution_count": 5,
     "metadata": {},
     "output_type": "execute_result"
    }
   ],
   "source": [
    "len(res.text)"
   ]
  },
  {
   "cell_type": "code",
   "execution_count": 6,
   "id": "b971cdc8",
   "metadata": {},
   "outputs": [
    {
     "data": {
      "text/plain": [
       "'<!DOCTYPE html>\\n<!--[if lt IE 7]>      <html lang=\"en-us\" class=\"no-js lt-ie9 lt-ie8 lt-ie7\"> <![endif]-->\\n<!--[if IE 7]>         <html lang=\"en-us\" class=\"no-js lt-ie9 lt-ie8\"> <![endif]-->\\n<!--[if IE 8]>         <html lang=\"en-us\" class=\"no-js lt-ie9\"> <![endif]-->\\n<!--[if gt IE 8]><!--> <html lang=\"en-us\" class=\"no-js\"> <!--<![endif]-->\\n    <head>\\n        <title>\\n    All products | Books to Scrape - Sandbox\\n</title>\\n\\n        <meta http-equiv=\"content-type\" content=\"text/html; charset=UTF-8\" />\\n        <meta name=\"created\" content=\"24th Jun 2016 09:29\" />\\n        <meta name=\"description\" content=\"\" />\\n        <meta name=\"viewport\" content=\"width=device-width\" />\\n        <meta name=\"robots\" content=\"NOARCHIVE,NOCACHE\" />\\n\\n        <!-- Le HTML5 shim, for IE6-8 support of HTML elements -->\\n        <!--[if lt IE 9]>\\n        <script src=\"//html5shim.googlecode.com/svn/trunk/html5.js\"></script>\\n        <![endif]-->\\n\\n        \\n            <link rel=\"shortcut icon\" href=\"static/oscar/favicon.'"
      ]
     },
     "execution_count": 6,
     "metadata": {},
     "output_type": "execute_result"
    }
   ],
   "source": [
    "res.text[:1000]"
   ]
  },
  {
   "cell_type": "code",
   "execution_count": 7,
   "id": "4e6e1021",
   "metadata": {},
   "outputs": [],
   "source": [
    "with open(\"Bookstoscrape.html\",'w',encoding='UTF8') as f:\n",
    "    f.write(res.text)"
   ]
  },
  {
   "cell_type": "code",
   "execution_count": 3,
   "id": "68efae69",
   "metadata": {},
   "outputs": [],
   "source": [
    "from bs4 import BeautifulSoup"
   ]
  },
  {
   "cell_type": "code",
   "execution_count": 9,
   "id": "16007b09",
   "metadata": {},
   "outputs": [],
   "source": [
    "doc=BeautifulSoup(res.text,'html.parser')"
   ]
  },
  {
   "cell_type": "code",
   "execution_count": 10,
   "id": "6bda85f8",
   "metadata": {},
   "outputs": [
    {
     "data": {
      "text/plain": [
       "<!DOCTYPE html>\n",
       "\n",
       "<!--[if lt IE 7]>      <html lang=\"en-us\" class=\"no-js lt-ie9 lt-ie8 lt-ie7\"> <![endif]-->\n",
       "<!--[if IE 7]>         <html lang=\"en-us\" class=\"no-js lt-ie9 lt-ie8\"> <![endif]-->\n",
       "<!--[if IE 8]>         <html lang=\"en-us\" class=\"no-js lt-ie9\"> <![endif]-->\n",
       "<!--[if gt IE 8]><!--> <html class=\"no-js\" lang=\"en-us\"> <!--<![endif]-->\n",
       "<head>\n",
       "<title>\n",
       "    All products | Books to Scrape - Sandbox\n",
       "</title>\n",
       "<meta content=\"text/html; charset=utf-8\" http-equiv=\"content-type\"/>\n",
       "<meta content=\"24th Jun 2016 09:29\" name=\"created\"/>\n",
       "<meta content=\"\" name=\"description\"/>\n",
       "<meta content=\"width=device-width\" name=\"viewport\"/>\n",
       "<meta content=\"NOARCHIVE,NOCACHE\" name=\"robots\"/>\n",
       "<!-- Le HTML5 shim, for IE6-8 support of HTML elements -->\n",
       "<!--[if lt IE 9]>\n",
       "        <script src=\"//html5shim.googlecode.com/svn/trunk/html5.js\"></script>\n",
       "        <![endif]-->\n",
       "<link href=\"static/oscar/favicon.ico\" rel=\"shortcut icon\"/>\n",
       "<link href=\"static/oscar/css/styles.css\" rel=\"stylesheet\" type=\"text/css\"/>\n",
       "<link href=\"static/oscar/js/bootstrap-datetimepicker/bootstrap-datetimepicker.css\" rel=\"stylesheet\"/>\n",
       "<link href=\"static/oscar/css/datetimepicker.css\" rel=\"stylesheet\" type=\"text/css\"/>\n",
       "</head>\n",
       "<body class=\"default\" id=\"default\">\n",
       "<header class=\"header container-fluid\">\n",
       "<div class=\"page_inner\">\n",
       "<div class=\"row\">\n",
       "<div class=\"col-sm-8 h1\"><a href=\"index.html\">Books to Scrape</a><small> We love being scraped!</small>\n",
       "</div>\n",
       "</div>\n",
       "</div>\n",
       "</header>\n",
       "<div class=\"container-fluid page\">\n",
       "<div class=\"page_inner\">\n",
       "<ul class=\"breadcrumb\">\n",
       "<li>\n",
       "<a href=\"index.html\">Home</a>\n",
       "</li>\n",
       "<li class=\"active\">All products</li>\n",
       "</ul>\n",
       "<div class=\"row\">\n",
       "<aside class=\"sidebar col-sm-4 col-md-3\">\n",
       "<div id=\"promotions_left\">\n",
       "</div>\n",
       "<div class=\"side_categories\">\n",
       "<ul class=\"nav nav-list\">\n",
       "<li>\n",
       "<a href=\"catalogue/category/books_1/index.html\">\n",
       "                            \n",
       "                                Books\n",
       "                            \n",
       "                        </a>\n",
       "<ul>\n",
       "<li>\n",
       "<a href=\"catalogue/category/books/travel_2/index.html\">\n",
       "                            \n",
       "                                Travel\n",
       "                            \n",
       "                        </a>\n",
       "</li>\n",
       "<li>\n",
       "<a href=\"catalogue/category/books/mystery_3/index.html\">\n",
       "                            \n",
       "                                Mystery\n",
       "                            \n",
       "                        </a>\n",
       "</li>\n",
       "<li>\n",
       "<a href=\"catalogue/category/books/historical-fiction_4/index.html\">\n",
       "                            \n",
       "                                Historical Fiction\n",
       "                            \n",
       "                        </a>\n",
       "</li>\n",
       "<li>\n",
       "<a href=\"catalogue/category/books/sequential-art_5/index.html\">\n",
       "                            \n",
       "                                Sequential Art\n",
       "                            \n",
       "                        </a>\n",
       "</li>\n",
       "<li>\n",
       "<a href=\"catalogue/category/books/classics_6/index.html\">\n",
       "                            \n",
       "                                Classics\n",
       "                            \n",
       "                        </a>\n",
       "</li>\n",
       "<li>\n",
       "<a href=\"catalogue/category/books/philosophy_7/index.html\">\n",
       "                            \n",
       "                                Philosophy\n",
       "                            \n",
       "                        </a>\n",
       "</li>\n",
       "<li>\n",
       "<a href=\"catalogue/category/books/romance_8/index.html\">\n",
       "                            \n",
       "                                Romance\n",
       "                            \n",
       "                        </a>\n",
       "</li>\n",
       "<li>\n",
       "<a href=\"catalogue/category/books/womens-fiction_9/index.html\">\n",
       "                            \n",
       "                                Womens Fiction\n",
       "                            \n",
       "                        </a>\n",
       "</li>\n",
       "<li>\n",
       "<a href=\"catalogue/category/books/fiction_10/index.html\">\n",
       "                            \n",
       "                                Fiction\n",
       "                            \n",
       "                        </a>\n",
       "</li>\n",
       "<li>\n",
       "<a href=\"catalogue/category/books/childrens_11/index.html\">\n",
       "                            \n",
       "                                Childrens\n",
       "                            \n",
       "                        </a>\n",
       "</li>\n",
       "<li>\n",
       "<a href=\"catalogue/category/books/religion_12/index.html\">\n",
       "                            \n",
       "                                Religion\n",
       "                            \n",
       "                        </a>\n",
       "</li>\n",
       "<li>\n",
       "<a href=\"catalogue/category/books/nonfiction_13/index.html\">\n",
       "                            \n",
       "                                Nonfiction\n",
       "                            \n",
       "                        </a>\n",
       "</li>\n",
       "<li>\n",
       "<a href=\"catalogue/category/books/music_14/index.html\">\n",
       "                            \n",
       "                                Music\n",
       "                            \n",
       "                        </a>\n",
       "</li>\n",
       "<li>\n",
       "<a href=\"catalogue/category/books/default_15/index.html\">\n",
       "                            \n",
       "                                Default\n",
       "                            \n",
       "                        </a>\n",
       "</li>\n",
       "<li>\n",
       "<a href=\"catalogue/category/books/science-fiction_16/index.html\">\n",
       "                            \n",
       "                                Science Fiction\n",
       "                            \n",
       "                        </a>\n",
       "</li>\n",
       "<li>\n",
       "<a href=\"catalogue/category/books/sports-and-games_17/index.html\">\n",
       "                            \n",
       "                                Sports and Games\n",
       "                            \n",
       "                        </a>\n",
       "</li>\n",
       "<li>\n",
       "<a href=\"catalogue/category/books/add-a-comment_18/index.html\">\n",
       "                            \n",
       "                                Add a comment\n",
       "                            \n",
       "                        </a>\n",
       "</li>\n",
       "<li>\n",
       "<a href=\"catalogue/category/books/fantasy_19/index.html\">\n",
       "                            \n",
       "                                Fantasy\n",
       "                            \n",
       "                        </a>\n",
       "</li>\n",
       "<li>\n",
       "<a href=\"catalogue/category/books/new-adult_20/index.html\">\n",
       "                            \n",
       "                                New Adult\n",
       "                            \n",
       "                        </a>\n",
       "</li>\n",
       "<li>\n",
       "<a href=\"catalogue/category/books/young-adult_21/index.html\">\n",
       "                            \n",
       "                                Young Adult\n",
       "                            \n",
       "                        </a>\n",
       "</li>\n",
       "<li>\n",
       "<a href=\"catalogue/category/books/science_22/index.html\">\n",
       "                            \n",
       "                                Science\n",
       "                            \n",
       "                        </a>\n",
       "</li>\n",
       "<li>\n",
       "<a href=\"catalogue/category/books/poetry_23/index.html\">\n",
       "                            \n",
       "                                Poetry\n",
       "                            \n",
       "                        </a>\n",
       "</li>\n",
       "<li>\n",
       "<a href=\"catalogue/category/books/paranormal_24/index.html\">\n",
       "                            \n",
       "                                Paranormal\n",
       "                            \n",
       "                        </a>\n",
       "</li>\n",
       "<li>\n",
       "<a href=\"catalogue/category/books/art_25/index.html\">\n",
       "                            \n",
       "                                Art\n",
       "                            \n",
       "                        </a>\n",
       "</li>\n",
       "<li>\n",
       "<a href=\"catalogue/category/books/psychology_26/index.html\">\n",
       "                            \n",
       "                                Psychology\n",
       "                            \n",
       "                        </a>\n",
       "</li>\n",
       "<li>\n",
       "<a href=\"catalogue/category/books/autobiography_27/index.html\">\n",
       "                            \n",
       "                                Autobiography\n",
       "                            \n",
       "                        </a>\n",
       "</li>\n",
       "<li>\n",
       "<a href=\"catalogue/category/books/parenting_28/index.html\">\n",
       "                            \n",
       "                                Parenting\n",
       "                            \n",
       "                        </a>\n",
       "</li>\n",
       "<li>\n",
       "<a href=\"catalogue/category/books/adult-fiction_29/index.html\">\n",
       "                            \n",
       "                                Adult Fiction\n",
       "                            \n",
       "                        </a>\n",
       "</li>\n",
       "<li>\n",
       "<a href=\"catalogue/category/books/humor_30/index.html\">\n",
       "                            \n",
       "                                Humor\n",
       "                            \n",
       "                        </a>\n",
       "</li>\n",
       "<li>\n",
       "<a href=\"catalogue/category/books/horror_31/index.html\">\n",
       "                            \n",
       "                                Horror\n",
       "                            \n",
       "                        </a>\n",
       "</li>\n",
       "<li>\n",
       "<a href=\"catalogue/category/books/history_32/index.html\">\n",
       "                            \n",
       "                                History\n",
       "                            \n",
       "                        </a>\n",
       "</li>\n",
       "<li>\n",
       "<a href=\"catalogue/category/books/food-and-drink_33/index.html\">\n",
       "                            \n",
       "                                Food and Drink\n",
       "                            \n",
       "                        </a>\n",
       "</li>\n",
       "<li>\n",
       "<a href=\"catalogue/category/books/christian-fiction_34/index.html\">\n",
       "                            \n",
       "                                Christian Fiction\n",
       "                            \n",
       "                        </a>\n",
       "</li>\n",
       "<li>\n",
       "<a href=\"catalogue/category/books/business_35/index.html\">\n",
       "                            \n",
       "                                Business\n",
       "                            \n",
       "                        </a>\n",
       "</li>\n",
       "<li>\n",
       "<a href=\"catalogue/category/books/biography_36/index.html\">\n",
       "                            \n",
       "                                Biography\n",
       "                            \n",
       "                        </a>\n",
       "</li>\n",
       "<li>\n",
       "<a href=\"catalogue/category/books/thriller_37/index.html\">\n",
       "                            \n",
       "                                Thriller\n",
       "                            \n",
       "                        </a>\n",
       "</li>\n",
       "<li>\n",
       "<a href=\"catalogue/category/books/contemporary_38/index.html\">\n",
       "                            \n",
       "                                Contemporary\n",
       "                            \n",
       "                        </a>\n",
       "</li>\n",
       "<li>\n",
       "<a href=\"catalogue/category/books/spirituality_39/index.html\">\n",
       "                            \n",
       "                                Spirituality\n",
       "                            \n",
       "                        </a>\n",
       "</li>\n",
       "<li>\n",
       "<a href=\"catalogue/category/books/academic_40/index.html\">\n",
       "                            \n",
       "                                Academic\n",
       "                            \n",
       "                        </a>\n",
       "</li>\n",
       "<li>\n",
       "<a href=\"catalogue/category/books/self-help_41/index.html\">\n",
       "                            \n",
       "                                Self Help\n",
       "                            \n",
       "                        </a>\n",
       "</li>\n",
       "<li>\n",
       "<a href=\"catalogue/category/books/historical_42/index.html\">\n",
       "                            \n",
       "                                Historical\n",
       "                            \n",
       "                        </a>\n",
       "</li>\n",
       "<li>\n",
       "<a href=\"catalogue/category/books/christian_43/index.html\">\n",
       "                            \n",
       "                                Christian\n",
       "                            \n",
       "                        </a>\n",
       "</li>\n",
       "<li>\n",
       "<a href=\"catalogue/category/books/suspense_44/index.html\">\n",
       "                            \n",
       "                                Suspense\n",
       "                            \n",
       "                        </a>\n",
       "</li>\n",
       "<li>\n",
       "<a href=\"catalogue/category/books/short-stories_45/index.html\">\n",
       "                            \n",
       "                                Short Stories\n",
       "                            \n",
       "                        </a>\n",
       "</li>\n",
       "<li>\n",
       "<a href=\"catalogue/category/books/novels_46/index.html\">\n",
       "                            \n",
       "                                Novels\n",
       "                            \n",
       "                        </a>\n",
       "</li>\n",
       "<li>\n",
       "<a href=\"catalogue/category/books/health_47/index.html\">\n",
       "                            \n",
       "                                Health\n",
       "                            \n",
       "                        </a>\n",
       "</li>\n",
       "<li>\n",
       "<a href=\"catalogue/category/books/politics_48/index.html\">\n",
       "                            \n",
       "                                Politics\n",
       "                            \n",
       "                        </a>\n",
       "</li>\n",
       "<li>\n",
       "<a href=\"catalogue/category/books/cultural_49/index.html\">\n",
       "                            \n",
       "                                Cultural\n",
       "                            \n",
       "                        </a>\n",
       "</li>\n",
       "<li>\n",
       "<a href=\"catalogue/category/books/erotica_50/index.html\">\n",
       "                            \n",
       "                                Erotica\n",
       "                            \n",
       "                        </a>\n",
       "</li>\n",
       "<li>\n",
       "<a href=\"catalogue/category/books/crime_51/index.html\">\n",
       "                            \n",
       "                                Crime\n",
       "                            \n",
       "                        </a>\n",
       "</li>\n",
       "</ul></li>\n",
       "</ul>\n",
       "</div>\n",
       "</aside>\n",
       "<div class=\"col-sm-8 col-md-9\">\n",
       "<div class=\"page-header action\">\n",
       "<h1>All products</h1>\n",
       "</div>\n",
       "<div id=\"messages\">\n",
       "</div>\n",
       "<div id=\"promotions\">\n",
       "</div>\n",
       "<form class=\"form-horizontal\" method=\"get\">\n",
       "<div style=\"display:none\">\n",
       "</div>\n",
       "<strong>1000</strong> results - showing <strong>1</strong> to <strong>20</strong>.\n",
       "                \n",
       "            \n",
       "            \n",
       "        \n",
       "    </form>\n",
       "<section>\n",
       "<div class=\"alert alert-warning\" role=\"alert\"><strong>Warning!</strong> This is a demo website for web scraping purposes. Prices and ratings here were randomly assigned and have no real meaning.</div>\n",
       "<div>\n",
       "<ol class=\"row\">\n",
       "<li class=\"col-xs-6 col-sm-4 col-md-3 col-lg-3\">\n",
       "<article class=\"product_pod\">\n",
       "<div class=\"image_container\">\n",
       "<a href=\"catalogue/a-light-in-the-attic_1000/index.html\"><img alt=\"A Light in the Attic\" class=\"thumbnail\" src=\"media/cache/2c/da/2cdad67c44b002e7ead0cc35693c0e8b.jpg\"/></a>\n",
       "</div>\n",
       "<p class=\"star-rating Three\">\n",
       "<i class=\"icon-star\"></i>\n",
       "<i class=\"icon-star\"></i>\n",
       "<i class=\"icon-star\"></i>\n",
       "<i class=\"icon-star\"></i>\n",
       "<i class=\"icon-star\"></i>\n",
       "</p>\n",
       "<h3><a href=\"catalogue/a-light-in-the-attic_1000/index.html\" title=\"A Light in the Attic\">A Light in the ...</a></h3>\n",
       "<div class=\"product_price\">\n",
       "<p class=\"price_color\">Â£51.77</p>\n",
       "<p class=\"instock availability\">\n",
       "<i class=\"icon-ok\"></i>\n",
       "    \n",
       "        In stock\n",
       "    \n",
       "</p>\n",
       "<form>\n",
       "<button class=\"btn btn-primary btn-block\" data-loading-text=\"Adding...\" type=\"submit\">Add to basket</button>\n",
       "</form>\n",
       "</div>\n",
       "</article>\n",
       "</li>\n",
       "<li class=\"col-xs-6 col-sm-4 col-md-3 col-lg-3\">\n",
       "<article class=\"product_pod\">\n",
       "<div class=\"image_container\">\n",
       "<a href=\"catalogue/tipping-the-velvet_999/index.html\"><img alt=\"Tipping the Velvet\" class=\"thumbnail\" src=\"media/cache/26/0c/260c6ae16bce31c8f8c95daddd9f4a1c.jpg\"/></a>\n",
       "</div>\n",
       "<p class=\"star-rating One\">\n",
       "<i class=\"icon-star\"></i>\n",
       "<i class=\"icon-star\"></i>\n",
       "<i class=\"icon-star\"></i>\n",
       "<i class=\"icon-star\"></i>\n",
       "<i class=\"icon-star\"></i>\n",
       "</p>\n",
       "<h3><a href=\"catalogue/tipping-the-velvet_999/index.html\" title=\"Tipping the Velvet\">Tipping the Velvet</a></h3>\n",
       "<div class=\"product_price\">\n",
       "<p class=\"price_color\">Â£53.74</p>\n",
       "<p class=\"instock availability\">\n",
       "<i class=\"icon-ok\"></i>\n",
       "    \n",
       "        In stock\n",
       "    \n",
       "</p>\n",
       "<form>\n",
       "<button class=\"btn btn-primary btn-block\" data-loading-text=\"Adding...\" type=\"submit\">Add to basket</button>\n",
       "</form>\n",
       "</div>\n",
       "</article>\n",
       "</li>\n",
       "<li class=\"col-xs-6 col-sm-4 col-md-3 col-lg-3\">\n",
       "<article class=\"product_pod\">\n",
       "<div class=\"image_container\">\n",
       "<a href=\"catalogue/soumission_998/index.html\"><img alt=\"Soumission\" class=\"thumbnail\" src=\"media/cache/3e/ef/3eef99c9d9adef34639f510662022830.jpg\"/></a>\n",
       "</div>\n",
       "<p class=\"star-rating One\">\n",
       "<i class=\"icon-star\"></i>\n",
       "<i class=\"icon-star\"></i>\n",
       "<i class=\"icon-star\"></i>\n",
       "<i class=\"icon-star\"></i>\n",
       "<i class=\"icon-star\"></i>\n",
       "</p>\n",
       "<h3><a href=\"catalogue/soumission_998/index.html\" title=\"Soumission\">Soumission</a></h3>\n",
       "<div class=\"product_price\">\n",
       "<p class=\"price_color\">Â£50.10</p>\n",
       "<p class=\"instock availability\">\n",
       "<i class=\"icon-ok\"></i>\n",
       "    \n",
       "        In stock\n",
       "    \n",
       "</p>\n",
       "<form>\n",
       "<button class=\"btn btn-primary btn-block\" data-loading-text=\"Adding...\" type=\"submit\">Add to basket</button>\n",
       "</form>\n",
       "</div>\n",
       "</article>\n",
       "</li>\n",
       "<li class=\"col-xs-6 col-sm-4 col-md-3 col-lg-3\">\n",
       "<article class=\"product_pod\">\n",
       "<div class=\"image_container\">\n",
       "<a href=\"catalogue/sharp-objects_997/index.html\"><img alt=\"Sharp Objects\" class=\"thumbnail\" src=\"media/cache/32/51/3251cf3a3412f53f339e42cac2134093.jpg\"/></a>\n",
       "</div>\n",
       "<p class=\"star-rating Four\">\n",
       "<i class=\"icon-star\"></i>\n",
       "<i class=\"icon-star\"></i>\n",
       "<i class=\"icon-star\"></i>\n",
       "<i class=\"icon-star\"></i>\n",
       "<i class=\"icon-star\"></i>\n",
       "</p>\n",
       "<h3><a href=\"catalogue/sharp-objects_997/index.html\" title=\"Sharp Objects\">Sharp Objects</a></h3>\n",
       "<div class=\"product_price\">\n",
       "<p class=\"price_color\">Â£47.82</p>\n",
       "<p class=\"instock availability\">\n",
       "<i class=\"icon-ok\"></i>\n",
       "    \n",
       "        In stock\n",
       "    \n",
       "</p>\n",
       "<form>\n",
       "<button class=\"btn btn-primary btn-block\" data-loading-text=\"Adding...\" type=\"submit\">Add to basket</button>\n",
       "</form>\n",
       "</div>\n",
       "</article>\n",
       "</li>\n",
       "<li class=\"col-xs-6 col-sm-4 col-md-3 col-lg-3\">\n",
       "<article class=\"product_pod\">\n",
       "<div class=\"image_container\">\n",
       "<a href=\"catalogue/sapiens-a-brief-history-of-humankind_996/index.html\"><img alt=\"Sapiens: A Brief History of Humankind\" class=\"thumbnail\" src=\"media/cache/be/a5/bea5697f2534a2f86a3ef27b5a8c12a6.jpg\"/></a>\n",
       "</div>\n",
       "<p class=\"star-rating Five\">\n",
       "<i class=\"icon-star\"></i>\n",
       "<i class=\"icon-star\"></i>\n",
       "<i class=\"icon-star\"></i>\n",
       "<i class=\"icon-star\"></i>\n",
       "<i class=\"icon-star\"></i>\n",
       "</p>\n",
       "<h3><a href=\"catalogue/sapiens-a-brief-history-of-humankind_996/index.html\" title=\"Sapiens: A Brief History of Humankind\">Sapiens: A Brief History ...</a></h3>\n",
       "<div class=\"product_price\">\n",
       "<p class=\"price_color\">Â£54.23</p>\n",
       "<p class=\"instock availability\">\n",
       "<i class=\"icon-ok\"></i>\n",
       "    \n",
       "        In stock\n",
       "    \n",
       "</p>\n",
       "<form>\n",
       "<button class=\"btn btn-primary btn-block\" data-loading-text=\"Adding...\" type=\"submit\">Add to basket</button>\n",
       "</form>\n",
       "</div>\n",
       "</article>\n",
       "</li>\n",
       "<li class=\"col-xs-6 col-sm-4 col-md-3 col-lg-3\">\n",
       "<article class=\"product_pod\">\n",
       "<div class=\"image_container\">\n",
       "<a href=\"catalogue/the-requiem-red_995/index.html\"><img alt=\"The Requiem Red\" class=\"thumbnail\" src=\"media/cache/68/33/68339b4c9bc034267e1da611ab3b34f8.jpg\"/></a>\n",
       "</div>\n",
       "<p class=\"star-rating One\">\n",
       "<i class=\"icon-star\"></i>\n",
       "<i class=\"icon-star\"></i>\n",
       "<i class=\"icon-star\"></i>\n",
       "<i class=\"icon-star\"></i>\n",
       "<i class=\"icon-star\"></i>\n",
       "</p>\n",
       "<h3><a href=\"catalogue/the-requiem-red_995/index.html\" title=\"The Requiem Red\">The Requiem Red</a></h3>\n",
       "<div class=\"product_price\">\n",
       "<p class=\"price_color\">Â£22.65</p>\n",
       "<p class=\"instock availability\">\n",
       "<i class=\"icon-ok\"></i>\n",
       "    \n",
       "        In stock\n",
       "    \n",
       "</p>\n",
       "<form>\n",
       "<button class=\"btn btn-primary btn-block\" data-loading-text=\"Adding...\" type=\"submit\">Add to basket</button>\n",
       "</form>\n",
       "</div>\n",
       "</article>\n",
       "</li>\n",
       "<li class=\"col-xs-6 col-sm-4 col-md-3 col-lg-3\">\n",
       "<article class=\"product_pod\">\n",
       "<div class=\"image_container\">\n",
       "<a href=\"catalogue/the-dirty-little-secrets-of-getting-your-dream-job_994/index.html\"><img alt=\"The Dirty Little Secrets of Getting Your Dream Job\" class=\"thumbnail\" src=\"media/cache/92/27/92274a95b7c251fea59a2b8a78275ab4.jpg\"/></a>\n",
       "</div>\n",
       "<p class=\"star-rating Four\">\n",
       "<i class=\"icon-star\"></i>\n",
       "<i class=\"icon-star\"></i>\n",
       "<i class=\"icon-star\"></i>\n",
       "<i class=\"icon-star\"></i>\n",
       "<i class=\"icon-star\"></i>\n",
       "</p>\n",
       "<h3><a href=\"catalogue/the-dirty-little-secrets-of-getting-your-dream-job_994/index.html\" title=\"The Dirty Little Secrets of Getting Your Dream Job\">The Dirty Little Secrets ...</a></h3>\n",
       "<div class=\"product_price\">\n",
       "<p class=\"price_color\">Â£33.34</p>\n",
       "<p class=\"instock availability\">\n",
       "<i class=\"icon-ok\"></i>\n",
       "    \n",
       "        In stock\n",
       "    \n",
       "</p>\n",
       "<form>\n",
       "<button class=\"btn btn-primary btn-block\" data-loading-text=\"Adding...\" type=\"submit\">Add to basket</button>\n",
       "</form>\n",
       "</div>\n",
       "</article>\n",
       "</li>\n",
       "<li class=\"col-xs-6 col-sm-4 col-md-3 col-lg-3\">\n",
       "<article class=\"product_pod\">\n",
       "<div class=\"image_container\">\n",
       "<a href=\"catalogue/the-coming-woman-a-novel-based-on-the-life-of-the-infamous-feminist-victoria-woodhull_993/index.html\"><img alt=\"The Coming Woman: A Novel Based on the Life of the Infamous Feminist, Victoria Woodhull\" class=\"thumbnail\" src=\"media/cache/3d/54/3d54940e57e662c4dd1f3ff00c78cc64.jpg\"/></a>\n",
       "</div>\n",
       "<p class=\"star-rating Three\">\n",
       "<i class=\"icon-star\"></i>\n",
       "<i class=\"icon-star\"></i>\n",
       "<i class=\"icon-star\"></i>\n",
       "<i class=\"icon-star\"></i>\n",
       "<i class=\"icon-star\"></i>\n",
       "</p>\n",
       "<h3><a href=\"catalogue/the-coming-woman-a-novel-based-on-the-life-of-the-infamous-feminist-victoria-woodhull_993/index.html\" title=\"The Coming Woman: A Novel Based on the Life of the Infamous Feminist, Victoria Woodhull\">The Coming Woman: A ...</a></h3>\n",
       "<div class=\"product_price\">\n",
       "<p class=\"price_color\">Â£17.93</p>\n",
       "<p class=\"instock availability\">\n",
       "<i class=\"icon-ok\"></i>\n",
       "    \n",
       "        In stock\n",
       "    \n",
       "</p>\n",
       "<form>\n",
       "<button class=\"btn btn-primary btn-block\" data-loading-text=\"Adding...\" type=\"submit\">Add to basket</button>\n",
       "</form>\n",
       "</div>\n",
       "</article>\n",
       "</li>\n",
       "<li class=\"col-xs-6 col-sm-4 col-md-3 col-lg-3\">\n",
       "<article class=\"product_pod\">\n",
       "<div class=\"image_container\">\n",
       "<a href=\"catalogue/the-boys-in-the-boat-nine-americans-and-their-epic-quest-for-gold-at-the-1936-berlin-olympics_992/index.html\"><img alt=\"The Boys in the Boat: Nine Americans and Their Epic Quest for Gold at the 1936 Berlin Olympics\" class=\"thumbnail\" src=\"media/cache/66/88/66883b91f6804b2323c8369331cb7dd1.jpg\"/></a>\n",
       "</div>\n",
       "<p class=\"star-rating Four\">\n",
       "<i class=\"icon-star\"></i>\n",
       "<i class=\"icon-star\"></i>\n",
       "<i class=\"icon-star\"></i>\n",
       "<i class=\"icon-star\"></i>\n",
       "<i class=\"icon-star\"></i>\n",
       "</p>\n",
       "<h3><a href=\"catalogue/the-boys-in-the-boat-nine-americans-and-their-epic-quest-for-gold-at-the-1936-berlin-olympics_992/index.html\" title=\"The Boys in the Boat: Nine Americans and Their Epic Quest for Gold at the 1936 Berlin Olympics\">The Boys in the ...</a></h3>\n",
       "<div class=\"product_price\">\n",
       "<p class=\"price_color\">Â£22.60</p>\n",
       "<p class=\"instock availability\">\n",
       "<i class=\"icon-ok\"></i>\n",
       "    \n",
       "        In stock\n",
       "    \n",
       "</p>\n",
       "<form>\n",
       "<button class=\"btn btn-primary btn-block\" data-loading-text=\"Adding...\" type=\"submit\">Add to basket</button>\n",
       "</form>\n",
       "</div>\n",
       "</article>\n",
       "</li>\n",
       "<li class=\"col-xs-6 col-sm-4 col-md-3 col-lg-3\">\n",
       "<article class=\"product_pod\">\n",
       "<div class=\"image_container\">\n",
       "<a href=\"catalogue/the-black-maria_991/index.html\"><img alt=\"The Black Maria\" class=\"thumbnail\" src=\"media/cache/58/46/5846057e28022268153beff6d352b06c.jpg\"/></a>\n",
       "</div>\n",
       "<p class=\"star-rating One\">\n",
       "<i class=\"icon-star\"></i>\n",
       "<i class=\"icon-star\"></i>\n",
       "<i class=\"icon-star\"></i>\n",
       "<i class=\"icon-star\"></i>\n",
       "<i class=\"icon-star\"></i>\n",
       "</p>\n",
       "<h3><a href=\"catalogue/the-black-maria_991/index.html\" title=\"The Black Maria\">The Black Maria</a></h3>\n",
       "<div class=\"product_price\">\n",
       "<p class=\"price_color\">Â£52.15</p>\n",
       "<p class=\"instock availability\">\n",
       "<i class=\"icon-ok\"></i>\n",
       "    \n",
       "        In stock\n",
       "    \n",
       "</p>\n",
       "<form>\n",
       "<button class=\"btn btn-primary btn-block\" data-loading-text=\"Adding...\" type=\"submit\">Add to basket</button>\n",
       "</form>\n",
       "</div>\n",
       "</article>\n",
       "</li>\n",
       "<li class=\"col-xs-6 col-sm-4 col-md-3 col-lg-3\">\n",
       "<article class=\"product_pod\">\n",
       "<div class=\"image_container\">\n",
       "<a href=\"catalogue/starving-hearts-triangular-trade-trilogy-1_990/index.html\"><img alt=\"Starving Hearts (Triangular Trade Trilogy, #1)\" class=\"thumbnail\" src=\"media/cache/be/f4/bef44da28c98f905a3ebec0b87be8530.jpg\"/></a>\n",
       "</div>\n",
       "<p class=\"star-rating Two\">\n",
       "<i class=\"icon-star\"></i>\n",
       "<i class=\"icon-star\"></i>\n",
       "<i class=\"icon-star\"></i>\n",
       "<i class=\"icon-star\"></i>\n",
       "<i class=\"icon-star\"></i>\n",
       "</p>\n",
       "<h3><a href=\"catalogue/starving-hearts-triangular-trade-trilogy-1_990/index.html\" title=\"Starving Hearts (Triangular Trade Trilogy, #1)\">Starving Hearts (Triangular Trade ...</a></h3>\n",
       "<div class=\"product_price\">\n",
       "<p class=\"price_color\">Â£13.99</p>\n",
       "<p class=\"instock availability\">\n",
       "<i class=\"icon-ok\"></i>\n",
       "    \n",
       "        In stock\n",
       "    \n",
       "</p>\n",
       "<form>\n",
       "<button class=\"btn btn-primary btn-block\" data-loading-text=\"Adding...\" type=\"submit\">Add to basket</button>\n",
       "</form>\n",
       "</div>\n",
       "</article>\n",
       "</li>\n",
       "<li class=\"col-xs-6 col-sm-4 col-md-3 col-lg-3\">\n",
       "<article class=\"product_pod\">\n",
       "<div class=\"image_container\">\n",
       "<a href=\"catalogue/shakespeares-sonnets_989/index.html\"><img alt=\"Shakespeare's Sonnets\" class=\"thumbnail\" src=\"media/cache/10/48/1048f63d3b5061cd2f424d20b3f9b666.jpg\"/></a>\n",
       "</div>\n",
       "<p class=\"star-rating Four\">\n",
       "<i class=\"icon-star\"></i>\n",
       "<i class=\"icon-star\"></i>\n",
       "<i class=\"icon-star\"></i>\n",
       "<i class=\"icon-star\"></i>\n",
       "<i class=\"icon-star\"></i>\n",
       "</p>\n",
       "<h3><a href=\"catalogue/shakespeares-sonnets_989/index.html\" title=\"Shakespeare's Sonnets\">Shakespeare's Sonnets</a></h3>\n",
       "<div class=\"product_price\">\n",
       "<p class=\"price_color\">Â£20.66</p>\n",
       "<p class=\"instock availability\">\n",
       "<i class=\"icon-ok\"></i>\n",
       "    \n",
       "        In stock\n",
       "    \n",
       "</p>\n",
       "<form>\n",
       "<button class=\"btn btn-primary btn-block\" data-loading-text=\"Adding...\" type=\"submit\">Add to basket</button>\n",
       "</form>\n",
       "</div>\n",
       "</article>\n",
       "</li>\n",
       "<li class=\"col-xs-6 col-sm-4 col-md-3 col-lg-3\">\n",
       "<article class=\"product_pod\">\n",
       "<div class=\"image_container\">\n",
       "<a href=\"catalogue/set-me-free_988/index.html\"><img alt=\"Set Me Free\" class=\"thumbnail\" src=\"media/cache/5b/88/5b88c52633f53cacf162c15f4f823153.jpg\"/></a>\n",
       "</div>\n",
       "<p class=\"star-rating Five\">\n",
       "<i class=\"icon-star\"></i>\n",
       "<i class=\"icon-star\"></i>\n",
       "<i class=\"icon-star\"></i>\n",
       "<i class=\"icon-star\"></i>\n",
       "<i class=\"icon-star\"></i>\n",
       "</p>\n",
       "<h3><a href=\"catalogue/set-me-free_988/index.html\" title=\"Set Me Free\">Set Me Free</a></h3>\n",
       "<div class=\"product_price\">\n",
       "<p class=\"price_color\">Â£17.46</p>\n",
       "<p class=\"instock availability\">\n",
       "<i class=\"icon-ok\"></i>\n",
       "    \n",
       "        In stock\n",
       "    \n",
       "</p>\n",
       "<form>\n",
       "<button class=\"btn btn-primary btn-block\" data-loading-text=\"Adding...\" type=\"submit\">Add to basket</button>\n",
       "</form>\n",
       "</div>\n",
       "</article>\n",
       "</li>\n",
       "<li class=\"col-xs-6 col-sm-4 col-md-3 col-lg-3\">\n",
       "<article class=\"product_pod\">\n",
       "<div class=\"image_container\">\n",
       "<a href=\"catalogue/scott-pilgrims-precious-little-life-scott-pilgrim-1_987/index.html\"><img alt=\"Scott Pilgrim's Precious Little Life (Scott Pilgrim #1)\" class=\"thumbnail\" src=\"media/cache/94/b1/94b1b8b244bce9677c2f29ccc890d4d2.jpg\"/></a>\n",
       "</div>\n",
       "<p class=\"star-rating Five\">\n",
       "<i class=\"icon-star\"></i>\n",
       "<i class=\"icon-star\"></i>\n",
       "<i class=\"icon-star\"></i>\n",
       "<i class=\"icon-star\"></i>\n",
       "<i class=\"icon-star\"></i>\n",
       "</p>\n",
       "<h3><a href=\"catalogue/scott-pilgrims-precious-little-life-scott-pilgrim-1_987/index.html\" title=\"Scott Pilgrim's Precious Little Life (Scott Pilgrim #1)\">Scott Pilgrim's Precious Little ...</a></h3>\n",
       "<div class=\"product_price\">\n",
       "<p class=\"price_color\">Â£52.29</p>\n",
       "<p class=\"instock availability\">\n",
       "<i class=\"icon-ok\"></i>\n",
       "    \n",
       "        In stock\n",
       "    \n",
       "</p>\n",
       "<form>\n",
       "<button class=\"btn btn-primary btn-block\" data-loading-text=\"Adding...\" type=\"submit\">Add to basket</button>\n",
       "</form>\n",
       "</div>\n",
       "</article>\n",
       "</li>\n",
       "<li class=\"col-xs-6 col-sm-4 col-md-3 col-lg-3\">\n",
       "<article class=\"product_pod\">\n",
       "<div class=\"image_container\">\n",
       "<a href=\"catalogue/rip-it-up-and-start-again_986/index.html\"><img alt=\"Rip it Up and Start Again\" class=\"thumbnail\" src=\"media/cache/81/c4/81c4a973364e17d01f217e1188253d5e.jpg\"/></a>\n",
       "</div>\n",
       "<p class=\"star-rating Five\">\n",
       "<i class=\"icon-star\"></i>\n",
       "<i class=\"icon-star\"></i>\n",
       "<i class=\"icon-star\"></i>\n",
       "<i class=\"icon-star\"></i>\n",
       "<i class=\"icon-star\"></i>\n",
       "</p>\n",
       "<h3><a href=\"catalogue/rip-it-up-and-start-again_986/index.html\" title=\"Rip it Up and Start Again\">Rip it Up and ...</a></h3>\n",
       "<div class=\"product_price\">\n",
       "<p class=\"price_color\">Â£35.02</p>\n",
       "<p class=\"instock availability\">\n",
       "<i class=\"icon-ok\"></i>\n",
       "    \n",
       "        In stock\n",
       "    \n",
       "</p>\n",
       "<form>\n",
       "<button class=\"btn btn-primary btn-block\" data-loading-text=\"Adding...\" type=\"submit\">Add to basket</button>\n",
       "</form>\n",
       "</div>\n",
       "</article>\n",
       "</li>\n",
       "<li class=\"col-xs-6 col-sm-4 col-md-3 col-lg-3\">\n",
       "<article class=\"product_pod\">\n",
       "<div class=\"image_container\">\n",
       "<a href=\"catalogue/our-band-could-be-your-life-scenes-from-the-american-indie-underground-1981-1991_985/index.html\"><img alt=\"Our Band Could Be Your Life: Scenes from the American Indie Underground, 1981-1991\" class=\"thumbnail\" src=\"media/cache/54/60/54607fe8945897cdcced0044103b10b6.jpg\"/></a>\n",
       "</div>\n",
       "<p class=\"star-rating Three\">\n",
       "<i class=\"icon-star\"></i>\n",
       "<i class=\"icon-star\"></i>\n",
       "<i class=\"icon-star\"></i>\n",
       "<i class=\"icon-star\"></i>\n",
       "<i class=\"icon-star\"></i>\n",
       "</p>\n",
       "<h3><a href=\"catalogue/our-band-could-be-your-life-scenes-from-the-american-indie-underground-1981-1991_985/index.html\" title=\"Our Band Could Be Your Life: Scenes from the American Indie Underground, 1981-1991\">Our Band Could Be ...</a></h3>\n",
       "<div class=\"product_price\">\n",
       "<p class=\"price_color\">Â£57.25</p>\n",
       "<p class=\"instock availability\">\n",
       "<i class=\"icon-ok\"></i>\n",
       "    \n",
       "        In stock\n",
       "    \n",
       "</p>\n",
       "<form>\n",
       "<button class=\"btn btn-primary btn-block\" data-loading-text=\"Adding...\" type=\"submit\">Add to basket</button>\n",
       "</form>\n",
       "</div>\n",
       "</article>\n",
       "</li>\n",
       "<li class=\"col-xs-6 col-sm-4 col-md-3 col-lg-3\">\n",
       "<article class=\"product_pod\">\n",
       "<div class=\"image_container\">\n",
       "<a href=\"catalogue/olio_984/index.html\"><img alt=\"Olio\" class=\"thumbnail\" src=\"media/cache/55/33/553310a7162dfbc2c6d19a84da0df9e1.jpg\"/></a>\n",
       "</div>\n",
       "<p class=\"star-rating One\">\n",
       "<i class=\"icon-star\"></i>\n",
       "<i class=\"icon-star\"></i>\n",
       "<i class=\"icon-star\"></i>\n",
       "<i class=\"icon-star\"></i>\n",
       "<i class=\"icon-star\"></i>\n",
       "</p>\n",
       "<h3><a href=\"catalogue/olio_984/index.html\" title=\"Olio\">Olio</a></h3>\n",
       "<div class=\"product_price\">\n",
       "<p class=\"price_color\">Â£23.88</p>\n",
       "<p class=\"instock availability\">\n",
       "<i class=\"icon-ok\"></i>\n",
       "    \n",
       "        In stock\n",
       "    \n",
       "</p>\n",
       "<form>\n",
       "<button class=\"btn btn-primary btn-block\" data-loading-text=\"Adding...\" type=\"submit\">Add to basket</button>\n",
       "</form>\n",
       "</div>\n",
       "</article>\n",
       "</li>\n",
       "<li class=\"col-xs-6 col-sm-4 col-md-3 col-lg-3\">\n",
       "<article class=\"product_pod\">\n",
       "<div class=\"image_container\">\n",
       "<a href=\"catalogue/mesaerion-the-best-science-fiction-stories-1800-1849_983/index.html\"><img alt=\"Mesaerion: The Best Science Fiction Stories 1800-1849\" class=\"thumbnail\" src=\"media/cache/09/a3/09a3aef48557576e1a85ba7efea8ecb7.jpg\"/></a>\n",
       "</div>\n",
       "<p class=\"star-rating One\">\n",
       "<i class=\"icon-star\"></i>\n",
       "<i class=\"icon-star\"></i>\n",
       "<i class=\"icon-star\"></i>\n",
       "<i class=\"icon-star\"></i>\n",
       "<i class=\"icon-star\"></i>\n",
       "</p>\n",
       "<h3><a href=\"catalogue/mesaerion-the-best-science-fiction-stories-1800-1849_983/index.html\" title=\"Mesaerion: The Best Science Fiction Stories 1800-1849\">Mesaerion: The Best Science ...</a></h3>\n",
       "<div class=\"product_price\">\n",
       "<p class=\"price_color\">Â£37.59</p>\n",
       "<p class=\"instock availability\">\n",
       "<i class=\"icon-ok\"></i>\n",
       "    \n",
       "        In stock\n",
       "    \n",
       "</p>\n",
       "<form>\n",
       "<button class=\"btn btn-primary btn-block\" data-loading-text=\"Adding...\" type=\"submit\">Add to basket</button>\n",
       "</form>\n",
       "</div>\n",
       "</article>\n",
       "</li>\n",
       "<li class=\"col-xs-6 col-sm-4 col-md-3 col-lg-3\">\n",
       "<article class=\"product_pod\">\n",
       "<div class=\"image_container\">\n",
       "<a href=\"catalogue/libertarianism-for-beginners_982/index.html\"><img alt=\"Libertarianism for Beginners\" class=\"thumbnail\" src=\"media/cache/0b/bc/0bbcd0a6f4bcd81ccb1049a52736406e.jpg\"/></a>\n",
       "</div>\n",
       "<p class=\"star-rating Two\">\n",
       "<i class=\"icon-star\"></i>\n",
       "<i class=\"icon-star\"></i>\n",
       "<i class=\"icon-star\"></i>\n",
       "<i class=\"icon-star\"></i>\n",
       "<i class=\"icon-star\"></i>\n",
       "</p>\n",
       "<h3><a href=\"catalogue/libertarianism-for-beginners_982/index.html\" title=\"Libertarianism for Beginners\">Libertarianism for Beginners</a></h3>\n",
       "<div class=\"product_price\">\n",
       "<p class=\"price_color\">Â£51.33</p>\n",
       "<p class=\"instock availability\">\n",
       "<i class=\"icon-ok\"></i>\n",
       "    \n",
       "        In stock\n",
       "    \n",
       "</p>\n",
       "<form>\n",
       "<button class=\"btn btn-primary btn-block\" data-loading-text=\"Adding...\" type=\"submit\">Add to basket</button>\n",
       "</form>\n",
       "</div>\n",
       "</article>\n",
       "</li>\n",
       "<li class=\"col-xs-6 col-sm-4 col-md-3 col-lg-3\">\n",
       "<article class=\"product_pod\">\n",
       "<div class=\"image_container\">\n",
       "<a href=\"catalogue/its-only-the-himalayas_981/index.html\"><img alt=\"It's Only the Himalayas\" class=\"thumbnail\" src=\"media/cache/27/a5/27a53d0bb95bdd88288eaf66c9230d7e.jpg\"/></a>\n",
       "</div>\n",
       "<p class=\"star-rating Two\">\n",
       "<i class=\"icon-star\"></i>\n",
       "<i class=\"icon-star\"></i>\n",
       "<i class=\"icon-star\"></i>\n",
       "<i class=\"icon-star\"></i>\n",
       "<i class=\"icon-star\"></i>\n",
       "</p>\n",
       "<h3><a href=\"catalogue/its-only-the-himalayas_981/index.html\" title=\"It's Only the Himalayas\">It's Only the Himalayas</a></h3>\n",
       "<div class=\"product_price\">\n",
       "<p class=\"price_color\">Â£45.17</p>\n",
       "<p class=\"instock availability\">\n",
       "<i class=\"icon-ok\"></i>\n",
       "    \n",
       "        In stock\n",
       "    \n",
       "</p>\n",
       "<form>\n",
       "<button class=\"btn btn-primary btn-block\" data-loading-text=\"Adding...\" type=\"submit\">Add to basket</button>\n",
       "</form>\n",
       "</div>\n",
       "</article>\n",
       "</li>\n",
       "</ol>\n",
       "<div>\n",
       "<ul class=\"pager\">\n",
       "<li class=\"current\">\n",
       "            \n",
       "                Page 1 of 50\n",
       "            \n",
       "            </li>\n",
       "<li class=\"next\"><a href=\"catalogue/page-2.html\">next</a></li>\n",
       "</ul>\n",
       "</div>\n",
       "</div>\n",
       "</section>\n",
       "</div>\n",
       "</div><!-- /row -->\n",
       "</div><!-- /page_inner -->\n",
       "</div><!-- /container-fluid -->\n",
       "<footer class=\"footer container-fluid\">\n",
       "</footer>\n",
       "<!-- jQuery -->\n",
       "<script src=\"http://ajax.googleapis.com/ajax/libs/jquery/1.9.1/jquery.min.js\"></script>\n",
       "<script>window.jQuery || document.write('<script src=\"static/oscar/js/jquery/jquery-1.9.1.min.js\"><\\/script>')</script>\n",
       "<!-- Twitter Bootstrap -->\n",
       "<script src=\"static/oscar/js/bootstrap3/bootstrap.min.js\" type=\"text/javascript\"></script>\n",
       "<!-- Oscar -->\n",
       "<script charset=\"utf-8\" src=\"static/oscar/js/oscar/ui.js\" type=\"text/javascript\"></script>\n",
       "<script charset=\"utf-8\" src=\"static/oscar/js/bootstrap-datetimepicker/bootstrap-datetimepicker.js\" type=\"text/javascript\"></script>\n",
       "<script charset=\"utf-8\" src=\"static/oscar/js/bootstrap-datetimepicker/locales/bootstrap-datetimepicker.all.js\" type=\"text/javascript\"></script>\n",
       "<script type=\"text/javascript\">\n",
       "            $(function() {\n",
       "                \n",
       "    \n",
       "    \n",
       "    oscar.init();\n",
       "\n",
       "    oscar.search.init();\n",
       "\n",
       "            });\n",
       "        </script>\n",
       "<!-- Version: N/A -->\n",
       "</body>\n",
       "</html>"
      ]
     },
     "execution_count": 10,
     "metadata": {},
     "output_type": "execute_result"
    }
   ],
   "source": [
    "doc"
   ]
  },
  {
   "cell_type": "code",
   "execution_count": 11,
   "id": "bfff6fa3",
   "metadata": {},
   "outputs": [],
   "source": [
    "h3_tags=doc.find_all('h3')######## name of first 20"
   ]
  },
  {
   "cell_type": "code",
   "execution_count": 12,
   "id": "2a95145f",
   "metadata": {},
   "outputs": [
    {
     "data": {
      "text/plain": [
       "20"
      ]
     },
     "execution_count": 12,
     "metadata": {},
     "output_type": "execute_result"
    }
   ],
   "source": [
    "len(h3_tags)"
   ]
  },
  {
   "cell_type": "code",
   "execution_count": 13,
   "id": "14b31e1b",
   "metadata": {},
   "outputs": [
    {
     "data": {
      "text/plain": [
       "'Tipping the Velvet'"
      ]
     },
     "execution_count": 13,
     "metadata": {},
     "output_type": "execute_result"
    }
   ],
   "source": [
    "h3_tags[1].a['title']"
   ]
  },
  {
   "cell_type": "code",
   "execution_count": 14,
   "id": "c598de2b",
   "metadata": {},
   "outputs": [
    {
     "data": {
      "text/plain": [
       "'catalogue/tipping-the-velvet_999/index.html'"
      ]
     },
     "execution_count": 14,
     "metadata": {},
     "output_type": "execute_result"
    }
   ],
   "source": [
    "h3_tags[1].a['href']"
   ]
  },
  {
   "cell_type": "code",
   "execution_count": 15,
   "id": "2fe7408a",
   "metadata": {},
   "outputs": [],
   "source": [
    "q=h3_tags[1].a['href']"
   ]
  },
  {
   "cell_type": "code",
   "execution_count": 16,
   "id": "a3c187d3",
   "metadata": {},
   "outputs": [],
   "source": [
    "nextpageurl='https://books.toscrape.com/'+q ######## link to the page of the book"
   ]
  },
  {
   "cell_type": "code",
   "execution_count": 18,
   "id": "a72f4f19",
   "metadata": {},
   "outputs": [
    {
     "name": "stdout",
     "output_type": "stream",
     "text": [
      "https://books.toscrape.com/catalogue/tipping-the-velvet_999/index.html\n"
     ]
    }
   ],
   "source": [
    "print(nextpageurl)"
   ]
  },
  {
   "cell_type": "code",
   "execution_count": 101,
   "id": "a2ba3be1",
   "metadata": {},
   "outputs": [],
   "source": [
    "q=h3_tags[4].a['href']"
   ]
  },
  {
   "cell_type": "code",
   "execution_count": 102,
   "id": "1070f8f0",
   "metadata": {},
   "outputs": [],
   "source": [
    "nxt='https://books.toscrape.com/'+q"
   ]
  },
  {
   "cell_type": "code",
   "execution_count": 103,
   "id": "91ed89f2",
   "metadata": {},
   "outputs": [
    {
     "name": "stdout",
     "output_type": "stream",
     "text": [
      "https://books.toscrape.com/catalogue/sapiens-a-brief-history-of-humankind_996/index.html\n"
     ]
    }
   ],
   "source": [
    "print(nxt)"
   ]
  },
  {
   "cell_type": "code",
   "execution_count": 19,
   "id": "178c8b80",
   "metadata": {},
   "outputs": [],
   "source": [
    "url2=nextpageurl"
   ]
  },
  {
   "cell_type": "code",
   "execution_count": 20,
   "id": "241ab602",
   "metadata": {},
   "outputs": [],
   "source": [
    "res2=requests.get(url2)#### requesting the page of the book"
   ]
  },
  {
   "cell_type": "code",
   "execution_count": 21,
   "id": "2403216d",
   "metadata": {},
   "outputs": [
    {
     "data": {
      "text/plain": [
       "200"
      ]
     },
     "execution_count": 21,
     "metadata": {},
     "output_type": "execute_result"
    }
   ],
   "source": [
    "res2.status_code"
   ]
  },
  {
   "cell_type": "code",
   "execution_count": 22,
   "id": "a5f46729",
   "metadata": {},
   "outputs": [],
   "source": [
    "doc2=BeautifulSoup(res2.text,'html.parser')"
   ]
  },
  {
   "cell_type": "code",
   "execution_count": 23,
   "id": "39c1ee3b",
   "metadata": {},
   "outputs": [],
   "source": [
    "genre=doc2.find_all('ul',{'class':'breadcrumb'}) ######### get the genre of the book"
   ]
  },
  {
   "cell_type": "code",
   "execution_count": 24,
   "id": "1098f399",
   "metadata": {},
   "outputs": [
    {
     "data": {
      "text/plain": [
       "'Historical Fiction'"
      ]
     },
     "execution_count": 24,
     "metadata": {},
     "output_type": "execute_result"
    }
   ],
   "source": [
    "genre[0].find_all('a')[2].text"
   ]
  },
  {
   "cell_type": "code",
   "execution_count": 25,
   "id": "2d516de8",
   "metadata": {},
   "outputs": [],
   "source": [
    "details=doc2.find_all('table',{'class':'table table-striped'})###### get all the details of the book"
   ]
  },
  {
   "cell_type": "code",
   "execution_count": 162,
   "id": "6d9b2996",
   "metadata": {},
   "outputs": [
    {
     "data": {
      "text/plain": [
       "'90fa61229261140a'"
      ]
     },
     "execution_count": 162,
     "metadata": {},
     "output_type": "execute_result"
    }
   ],
   "source": [
    "details[0].find_all('tr')[0].text.strip()[3:]"
   ]
  },
  {
   "cell_type": "code",
   "execution_count": null,
   "id": "33fb8fb7",
   "metadata": {},
   "outputs": [],
   "source": []
  },
  {
   "cell_type": "code",
   "execution_count": null,
   "id": "a7d2188d",
   "metadata": {},
   "outputs": [],
   "source": []
  },
  {
   "cell_type": "code",
   "execution_count": null,
   "id": "f425b4b8",
   "metadata": {},
   "outputs": [],
   "source": []
  },
  {
   "cell_type": "code",
   "execution_count": 67,
   "id": "36aaa6d3",
   "metadata": {},
   "outputs": [],
   "source": [
    "book_names=[]\n",
    "book_webpage=[]\n",
    "\n",
    "for i in range(0,20):\n",
    "    book_names.append(h3_tags[i].a['title'])\n",
    "    q='https://books.toscrape.com/'+h3_tags[i].a['href']\n",
    "    book_webpage.append(q)"
   ]
  },
  {
   "cell_type": "code",
   "execution_count": 2,
   "id": "d7a88892",
   "metadata": {},
   "outputs": [],
   "source": [
    "import pandas as pd\n",
    "#dict1={'Name':book_names,\"URL\":book_webpage}\n",
    "#df=pd.DataFrame(dict1,index=list(range(1,21)))"
   ]
  },
  {
   "cell_type": "code",
   "execution_count": 74,
   "id": "dd46f94e",
   "metadata": {},
   "outputs": [
    {
     "data": {
      "text/html": [
       "<div>\n",
       "<style scoped>\n",
       "    .dataframe tbody tr th:only-of-type {\n",
       "        vertical-align: middle;\n",
       "    }\n",
       "\n",
       "    .dataframe tbody tr th {\n",
       "        vertical-align: top;\n",
       "    }\n",
       "\n",
       "    .dataframe thead th {\n",
       "        text-align: right;\n",
       "    }\n",
       "</style>\n",
       "<table border=\"1\" class=\"dataframe\">\n",
       "  <thead>\n",
       "    <tr style=\"text-align: right;\">\n",
       "      <th></th>\n",
       "      <th>Name</th>\n",
       "      <th>URL</th>\n",
       "    </tr>\n",
       "  </thead>\n",
       "  <tbody>\n",
       "    <tr>\n",
       "      <th>1</th>\n",
       "      <td>A Light in the Attic</td>\n",
       "      <td>https://books.toscrape.com/catalogue/a-light-i...</td>\n",
       "    </tr>\n",
       "    <tr>\n",
       "      <th>2</th>\n",
       "      <td>Tipping the Velvet</td>\n",
       "      <td>https://books.toscrape.com/catalogue/tipping-t...</td>\n",
       "    </tr>\n",
       "    <tr>\n",
       "      <th>3</th>\n",
       "      <td>Soumission</td>\n",
       "      <td>https://books.toscrape.com/catalogue/soumissio...</td>\n",
       "    </tr>\n",
       "    <tr>\n",
       "      <th>4</th>\n",
       "      <td>Sharp Objects</td>\n",
       "      <td>https://books.toscrape.com/catalogue/sharp-obj...</td>\n",
       "    </tr>\n",
       "    <tr>\n",
       "      <th>5</th>\n",
       "      <td>Sapiens: A Brief History of Humankind</td>\n",
       "      <td>https://books.toscrape.com/catalogue/sapiens-a...</td>\n",
       "    </tr>\n",
       "    <tr>\n",
       "      <th>6</th>\n",
       "      <td>The Requiem Red</td>\n",
       "      <td>https://books.toscrape.com/catalogue/the-requi...</td>\n",
       "    </tr>\n",
       "    <tr>\n",
       "      <th>7</th>\n",
       "      <td>The Dirty Little Secrets of Getting Your Dream...</td>\n",
       "      <td>https://books.toscrape.com/catalogue/the-dirty...</td>\n",
       "    </tr>\n",
       "    <tr>\n",
       "      <th>8</th>\n",
       "      <td>The Coming Woman: A Novel Based on the Life of...</td>\n",
       "      <td>https://books.toscrape.com/catalogue/the-comin...</td>\n",
       "    </tr>\n",
       "    <tr>\n",
       "      <th>9</th>\n",
       "      <td>The Boys in the Boat: Nine Americans and Their...</td>\n",
       "      <td>https://books.toscrape.com/catalogue/the-boys-...</td>\n",
       "    </tr>\n",
       "    <tr>\n",
       "      <th>10</th>\n",
       "      <td>The Black Maria</td>\n",
       "      <td>https://books.toscrape.com/catalogue/the-black...</td>\n",
       "    </tr>\n",
       "    <tr>\n",
       "      <th>11</th>\n",
       "      <td>Starving Hearts (Triangular Trade Trilogy, #1)</td>\n",
       "      <td>https://books.toscrape.com/catalogue/starving-...</td>\n",
       "    </tr>\n",
       "    <tr>\n",
       "      <th>12</th>\n",
       "      <td>Shakespeare's Sonnets</td>\n",
       "      <td>https://books.toscrape.com/catalogue/shakespea...</td>\n",
       "    </tr>\n",
       "    <tr>\n",
       "      <th>13</th>\n",
       "      <td>Set Me Free</td>\n",
       "      <td>https://books.toscrape.com/catalogue/set-me-fr...</td>\n",
       "    </tr>\n",
       "    <tr>\n",
       "      <th>14</th>\n",
       "      <td>Scott Pilgrim's Precious Little Life (Scott Pi...</td>\n",
       "      <td>https://books.toscrape.com/catalogue/scott-pil...</td>\n",
       "    </tr>\n",
       "    <tr>\n",
       "      <th>15</th>\n",
       "      <td>Rip it Up and Start Again</td>\n",
       "      <td>https://books.toscrape.com/catalogue/rip-it-up...</td>\n",
       "    </tr>\n",
       "    <tr>\n",
       "      <th>16</th>\n",
       "      <td>Our Band Could Be Your Life: Scenes from the A...</td>\n",
       "      <td>https://books.toscrape.com/catalogue/our-band-...</td>\n",
       "    </tr>\n",
       "    <tr>\n",
       "      <th>17</th>\n",
       "      <td>Olio</td>\n",
       "      <td>https://books.toscrape.com/catalogue/olio_984/...</td>\n",
       "    </tr>\n",
       "    <tr>\n",
       "      <th>18</th>\n",
       "      <td>Mesaerion: The Best Science Fiction Stories 18...</td>\n",
       "      <td>https://books.toscrape.com/catalogue/mesaerion...</td>\n",
       "    </tr>\n",
       "    <tr>\n",
       "      <th>19</th>\n",
       "      <td>Libertarianism for Beginners</td>\n",
       "      <td>https://books.toscrape.com/catalogue/libertari...</td>\n",
       "    </tr>\n",
       "    <tr>\n",
       "      <th>20</th>\n",
       "      <td>It's Only the Himalayas</td>\n",
       "      <td>https://books.toscrape.com/catalogue/its-only-...</td>\n",
       "    </tr>\n",
       "  </tbody>\n",
       "</table>\n",
       "</div>"
      ],
      "text/plain": [
       "                                                 Name  \\\n",
       "1                                A Light in the Attic   \n",
       "2                                  Tipping the Velvet   \n",
       "3                                          Soumission   \n",
       "4                                       Sharp Objects   \n",
       "5               Sapiens: A Brief History of Humankind   \n",
       "6                                     The Requiem Red   \n",
       "7   The Dirty Little Secrets of Getting Your Dream...   \n",
       "8   The Coming Woman: A Novel Based on the Life of...   \n",
       "9   The Boys in the Boat: Nine Americans and Their...   \n",
       "10                                    The Black Maria   \n",
       "11     Starving Hearts (Triangular Trade Trilogy, #1)   \n",
       "12                              Shakespeare's Sonnets   \n",
       "13                                        Set Me Free   \n",
       "14  Scott Pilgrim's Precious Little Life (Scott Pi...   \n",
       "15                          Rip it Up and Start Again   \n",
       "16  Our Band Could Be Your Life: Scenes from the A...   \n",
       "17                                               Olio   \n",
       "18  Mesaerion: The Best Science Fiction Stories 18...   \n",
       "19                       Libertarianism for Beginners   \n",
       "20                            It's Only the Himalayas   \n",
       "\n",
       "                                                  URL  \n",
       "1   https://books.toscrape.com/catalogue/a-light-i...  \n",
       "2   https://books.toscrape.com/catalogue/tipping-t...  \n",
       "3   https://books.toscrape.com/catalogue/soumissio...  \n",
       "4   https://books.toscrape.com/catalogue/sharp-obj...  \n",
       "5   https://books.toscrape.com/catalogue/sapiens-a...  \n",
       "6   https://books.toscrape.com/catalogue/the-requi...  \n",
       "7   https://books.toscrape.com/catalogue/the-dirty...  \n",
       "8   https://books.toscrape.com/catalogue/the-comin...  \n",
       "9   https://books.toscrape.com/catalogue/the-boys-...  \n",
       "10  https://books.toscrape.com/catalogue/the-black...  \n",
       "11  https://books.toscrape.com/catalogue/starving-...  \n",
       "12  https://books.toscrape.com/catalogue/shakespea...  \n",
       "13  https://books.toscrape.com/catalogue/set-me-fr...  \n",
       "14  https://books.toscrape.com/catalogue/scott-pil...  \n",
       "15  https://books.toscrape.com/catalogue/rip-it-up...  \n",
       "16  https://books.toscrape.com/catalogue/our-band-...  \n",
       "17  https://books.toscrape.com/catalogue/olio_984/...  \n",
       "18  https://books.toscrape.com/catalogue/mesaerion...  \n",
       "19  https://books.toscrape.com/catalogue/libertari...  \n",
       "20  https://books.toscrape.com/catalogue/its-only-...  "
      ]
     },
     "execution_count": 74,
     "metadata": {},
     "output_type": "execute_result"
    }
   ],
   "source": [
    "df"
   ]
  },
  {
   "cell_type": "code",
   "execution_count": 75,
   "id": "efbfd7fd",
   "metadata": {},
   "outputs": [],
   "source": [
    "df.to_csv('Books.csv',index=None)"
   ]
  },
  {
   "cell_type": "code",
   "execution_count": 68,
   "id": "a177a0fd",
   "metadata": {},
   "outputs": [
    {
     "name": "stdout",
     "output_type": "stream",
     "text": [
      "https://books.toscrape.com/catalogue/a-light-in-the-attic_1000/index.html\n"
     ]
    }
   ],
   "source": [
    "print(book_webpage[0])"
   ]
  },
  {
   "cell_type": "code",
   "execution_count": 69,
   "id": "ebe7edf8",
   "metadata": {},
   "outputs": [],
   "source": [
    "b_w=book_webpage[0]"
   ]
  },
  {
   "cell_type": "code",
   "execution_count": 70,
   "id": "538aec7f",
   "metadata": {},
   "outputs": [],
   "source": [
    "new_res=requests.get(b_w)"
   ]
  },
  {
   "cell_type": "code",
   "execution_count": 71,
   "id": "fecbf9ca",
   "metadata": {},
   "outputs": [
    {
     "data": {
      "text/plain": [
       "200"
      ]
     },
     "execution_count": 71,
     "metadata": {},
     "output_type": "execute_result"
    }
   ],
   "source": [
    "new_res.status_code"
   ]
  },
  {
   "cell_type": "code",
   "execution_count": 72,
   "id": "54d040d8",
   "metadata": {},
   "outputs": [],
   "source": [
    "dc=BeautifulSoup(new_res.text,'html.parser')"
   ]
  },
  {
   "cell_type": "code",
   "execution_count": 84,
   "id": "7af21971",
   "metadata": {},
   "outputs": [],
   "source": [
    "p_tags=dc.find_all('p')"
   ]
  },
  {
   "cell_type": "code",
   "execution_count": 92,
   "id": "7f0db2f2",
   "metadata": {},
   "outputs": [
    {
     "data": {
      "text/plain": [
       "\"It's hard to imagine a world without A Light in the Attic. This now-classic collection of poetry and drawings from Shel Silverstein celebrates its 20th anniversary with this special edition. Silverstein's humorous and creative verse can amuse the dowdiest of readers. Lemon-faced adults and fidgety kids sit still and read these rhythmic words and laugh and smile and love th It's hard to imagine a world without A Light in the Attic. This now-classic collection of poetry and drawings from Shel Silverstein celebrates its 20th anniversary with this special edition. Silverstein's humorous and creative verse can amuse the dowdiest of readers. Lemon-faced adults and fidgety kids sit still and read these rhythmic words and laugh and smile and love that Silverstein. Need proof of his genius? RockabyeRockabye baby, in the treetopDon't you know a treetopIs no safe place to rock?And who put you up there,And your cradle, too?Baby, I think someone down here'sGot it in for you. Shel, you never sounded so good. ...more\""
      ]
     },
     "execution_count": 92,
     "metadata": {},
     "output_type": "execute_result"
    }
   ],
   "source": [
    "p_tags[3].text"
   ]
  },
  {
   "cell_type": "code",
   "execution_count": 99,
   "id": "492b2de0",
   "metadata": {},
   "outputs": [],
   "source": [
    "star_tag=dc.find_all('div',{'class':\"col-sm-6 product_main\"})"
   ]
  },
  {
   "cell_type": "code",
   "execution_count": 195,
   "id": "9ac2a0b1",
   "metadata": {},
   "outputs": [
    {
     "data": {
      "text/plain": [
       "'Â£51.77'"
      ]
     },
     "execution_count": 195,
     "metadata": {},
     "output_type": "execute_result"
    }
   ],
   "source": [
    "star_tag[0].find('p').text"
   ]
  },
  {
   "cell_type": "code",
   "execution_count": 200,
   "id": "ae6dd950",
   "metadata": {},
   "outputs": [
    {
     "data": {
      "text/plain": [
       "'£51.77'"
      ]
     },
     "execution_count": 200,
     "metadata": {},
     "output_type": "execute_result"
    }
   ],
   "source": [
    "star_tag[0].find_all('p',{'class':'price_color'})[0].text[1:]"
   ]
  },
  {
   "cell_type": "code",
   "execution_count": 182,
   "id": "447c7aff",
   "metadata": {},
   "outputs": [
    {
     "data": {
      "text/plain": [
       "'A Light in the Attic'"
      ]
     },
     "execution_count": 182,
     "metadata": {},
     "output_type": "execute_result"
    }
   ],
   "source": [
    "star_tag[0].h1.text.strip()"
   ]
  },
  {
   "cell_type": "code",
   "execution_count": 203,
   "id": "bc4bb8fa",
   "metadata": {},
   "outputs": [
    {
     "data": {
      "text/plain": [
       "'In stock (22 available)'"
      ]
     },
     "execution_count": 203,
     "metadata": {},
     "output_type": "execute_result"
    }
   ],
   "source": [
    "star_tag[0].find_all('p',{'class':'instock'})[0].text.strip()"
   ]
  },
  {
   "cell_type": "code",
   "execution_count": 136,
   "id": "3c435d98",
   "metadata": {},
   "outputs": [],
   "source": [
    "star_rating=star_tag[0].find_all('p')[2]['class'][1]"
   ]
  },
  {
   "cell_type": "code",
   "execution_count": 215,
   "id": "cd14ff74",
   "metadata": {},
   "outputs": [
    {
     "data": {
      "text/plain": [
       "'Three'"
      ]
     },
     "execution_count": 215,
     "metadata": {},
     "output_type": "execute_result"
    }
   ],
   "source": [
    "star_rating"
   ]
  },
  {
   "cell_type": "code",
   "execution_count": 1,
   "id": "2e3b4284",
   "metadata": {},
   "outputs": [],
   "source": [
    "import csv\n",
    "import re"
   ]
  },
  {
   "cell_type": "code",
   "execution_count": 147,
   "id": "3d4be693",
   "metadata": {},
   "outputs": [],
   "source": [
    "def get_page_details(book_url):\n",
    "    \n",
    "    #get the page\n",
    "    res=requests.get(book_url)\n",
    "    \n",
    "    #check the status of response\n",
    "    if res.status_code != 200:\n",
    "        raise Exception('Failed to load page {}.format(book_url)')\n",
    "    \n",
    "    #convert into BS4 for parsing\n",
    "    book_page_doc=BeautifulSoup(res.text,'html.parser')\n",
    "    \n",
    "    return book_page_doc\n",
    "\n",
    "\n",
    "def get_book_details(page_doc):\n",
    "    \n",
    "    # get the name, stars, price and availability\n",
    "    tag=page_doc.find_all('div',{'class':\"col-sm-6 product_main\"})\n",
    "    Name=tag[0].h1.text.strip()\n",
    "    Stars=tag[0].find_all('p')[2]['class'][1]\n",
    "    Price=tag[0].find('p',{'class':'price_color'}).text[1:]\n",
    "    Availability=tag[0].find_all('p',{'class':'instock'})[0].text.strip()\n",
    "    \n",
    "    #get genre\n",
    "    gen=page_doc.find_all('ul',{'class':'breadcrumb'})\n",
    "    Genre=gen[0].find_all('a')[2].text.strip()\n",
    "    \n",
    "    #get description\n",
    "    p_tags=page_doc.find_all('p')\n",
    "    Description=p_tags[3].text.strip()\n",
    "    \n",
    "    #get UPC\n",
    "    details=page_doc.find_all('table',{'class':'table table-striped'})\n",
    "    UPC=details[0].find_all('tr')[0].text.strip()[3:]\n",
    "    \n",
    "    return [UPC,Name,Genre,Stars,Price,Availability,Description]\n",
    "\n",
    "def write_to_csv(url):\n",
    "    \n",
    "    #get the parser page\n",
    "    doc_parse=get_page_details(url)\n",
    "    \n",
    "    #get all the details in UPC, Name, Genre, Stars, Price, Availability, Description order\n",
    "    detail_list=get_book_details(doc_parse)\n",
    "    \n",
    "    #to store the name of the book\n",
    "    N=re.findall(r\"[^: ]+\",detail_list[1])\n",
    "    N=' '.join(N)\n",
    "    \n",
    "    #writing to CSV\n",
    "    fto=open(N+'.csv',mode='w',encoding='UTF-8')\n",
    "    csv_writer=csv.writer(fto,delimiter=',')\n",
    "    csv_writer.writerows([['UPC', 'Name', 'Genre', 'Stars', 'Price', 'Availability', 'Description'],[detail_list[0],detail_list[1],detail_list[2],detail_list[3],detail_list[4],detail_list[5],detail_list[6]]])\n",
    "    #closing the CSV\n",
    "    fto.close()"
   ]
  },
  {
   "cell_type": "code",
   "execution_count": 53,
   "id": "d8bc66ed",
   "metadata": {},
   "outputs": [],
   "source": [
    "def scrape_books():\n",
    "    page_url='https://books.toscrape.com/'\n",
    "    \n",
    "    #get the page\n",
    "    response=requests.get(page_url)\n",
    "    \n",
    "    #check the status of response\n",
    "    if response.status_code != 200:\n",
    "        raise Exception('Failed to load home page {}.format(page_url)')\n",
    "    \n",
    "    #convert into BS4 for parsing\n",
    "    homepage_doc=BeautifulSoup(res.text,'html.parser')\n",
    "    \n",
    "    return homepage_doc\n",
    "\n",
    "\n",
    "def get_bookurl(homepage_doc):\n",
    "    \n",
    "    #initializing lists\n",
    "    book_names=[]\n",
    "    book_webpage=[]\n",
    "    \n",
    "    #get all the books' name and url\n",
    "    for i in range(0,20):\n",
    "        book_names.append(h3_tags[i].a['title'])\n",
    "        book_webpage.append('https://books.toscrape.com/'+h3_tags[i].a['href'])\n",
    "        \n",
    "    return [book_names,book_webpage]\n",
    "\n",
    "\n",
    "def creating_csvs():\n",
    "    i=scrape_books()\n",
    "    the_lists=get_bookurl(i)\n",
    "    \n",
    "    #create dataframe using pandas\n",
    "    dict1={'Name':book_names,\"URL\":book_webpage}\n",
    "    df=pd.DataFrame(dict1,index=list(range(1,21)))\n",
    "    \n",
    "    print(\"Creating Books.csv .....\")\n",
    "    #create csv\n",
    "    df.to_csv('Books.csv',index=None)\n",
    "    \n",
    "    #Scraping the book webpages\n",
    "    for i in range(0,20):\n",
    "        print(\"Scraping {}\".format(the_lists[0][i]))\n",
    "        write_to_csv(the_lists[1][i])\n"
   ]
  },
  {
   "cell_type": "code",
   "execution_count": 54,
   "id": "81eeb9ce",
   "metadata": {},
   "outputs": [],
   "source": [
    "write_to_csv('https://books.toscrape.com/catalogue/mesaerion-the-best-science-fiction-stories-1800-1849_983/index.html')"
   ]
  },
  {
   "cell_type": "markdown",
   "id": "d8a63ed0",
   "metadata": {},
   "source": [
    "### Scraping quotes.toscrape.com"
   ]
  },
  {
   "cell_type": "code",
   "execution_count": 5,
   "id": "ca8e403c",
   "metadata": {},
   "outputs": [],
   "source": [
    "res=requests.get('https://quotes.toscrape.com/')"
   ]
  },
  {
   "cell_type": "code",
   "execution_count": 6,
   "id": "191ef013",
   "metadata": {},
   "outputs": [
    {
     "data": {
      "text/plain": [
       "200"
      ]
     },
     "execution_count": 6,
     "metadata": {},
     "output_type": "execute_result"
    }
   ],
   "source": [
    "res.status_code"
   ]
  },
  {
   "cell_type": "code",
   "execution_count": 7,
   "id": "82099f06",
   "metadata": {},
   "outputs": [],
   "source": [
    "soup=BeautifulSoup(res.text,'html.parser')"
   ]
  },
  {
   "cell_type": "code",
   "execution_count": 8,
   "id": "17243d9d",
   "metadata": {},
   "outputs": [
    {
     "data": {
      "text/plain": [
       "<!DOCTYPE html>\n",
       "\n",
       "<html lang=\"en\">\n",
       "<head>\n",
       "<meta charset=\"utf-8\"/>\n",
       "<title>Quotes to Scrape</title>\n",
       "<link href=\"/static/bootstrap.min.css\" rel=\"stylesheet\"/>\n",
       "<link href=\"/static/main.css\" rel=\"stylesheet\"/>\n",
       "</head>\n",
       "<body>\n",
       "<div class=\"container\">\n",
       "<div class=\"row header-box\">\n",
       "<div class=\"col-md-8\">\n",
       "<h1>\n",
       "<a href=\"/\" style=\"text-decoration: none\">Quotes to Scrape</a>\n",
       "</h1>\n",
       "</div>\n",
       "<div class=\"col-md-4\">\n",
       "<p>\n",
       "<a href=\"/login\">Login</a>\n",
       "</p>\n",
       "</div>\n",
       "</div>\n",
       "<div class=\"row\">\n",
       "<div class=\"col-md-8\">\n",
       "<div class=\"quote\" itemscope=\"\" itemtype=\"http://schema.org/CreativeWork\">\n",
       "<span class=\"text\" itemprop=\"text\">“The world as we have created it is a process of our thinking. It cannot be changed without changing our thinking.”</span>\n",
       "<span>by <small class=\"author\" itemprop=\"author\">Albert Einstein</small>\n",
       "<a href=\"/author/Albert-Einstein\">(about)</a>\n",
       "</span>\n",
       "<div class=\"tags\">\n",
       "            Tags:\n",
       "            <meta class=\"keywords\" content=\"change,deep-thoughts,thinking,world\" itemprop=\"keywords\"/>\n",
       "<a class=\"tag\" href=\"/tag/change/page/1/\">change</a>\n",
       "<a class=\"tag\" href=\"/tag/deep-thoughts/page/1/\">deep-thoughts</a>\n",
       "<a class=\"tag\" href=\"/tag/thinking/page/1/\">thinking</a>\n",
       "<a class=\"tag\" href=\"/tag/world/page/1/\">world</a>\n",
       "</div>\n",
       "</div>\n",
       "<div class=\"quote\" itemscope=\"\" itemtype=\"http://schema.org/CreativeWork\">\n",
       "<span class=\"text\" itemprop=\"text\">“It is our choices, Harry, that show what we truly are, far more than our abilities.”</span>\n",
       "<span>by <small class=\"author\" itemprop=\"author\">J.K. Rowling</small>\n",
       "<a href=\"/author/J-K-Rowling\">(about)</a>\n",
       "</span>\n",
       "<div class=\"tags\">\n",
       "            Tags:\n",
       "            <meta class=\"keywords\" content=\"abilities,choices\" itemprop=\"keywords\"/>\n",
       "<a class=\"tag\" href=\"/tag/abilities/page/1/\">abilities</a>\n",
       "<a class=\"tag\" href=\"/tag/choices/page/1/\">choices</a>\n",
       "</div>\n",
       "</div>\n",
       "<div class=\"quote\" itemscope=\"\" itemtype=\"http://schema.org/CreativeWork\">\n",
       "<span class=\"text\" itemprop=\"text\">“There are only two ways to live your life. One is as though nothing is a miracle. The other is as though everything is a miracle.”</span>\n",
       "<span>by <small class=\"author\" itemprop=\"author\">Albert Einstein</small>\n",
       "<a href=\"/author/Albert-Einstein\">(about)</a>\n",
       "</span>\n",
       "<div class=\"tags\">\n",
       "            Tags:\n",
       "            <meta class=\"keywords\" content=\"inspirational,life,live,miracle,miracles\" itemprop=\"keywords\"/>\n",
       "<a class=\"tag\" href=\"/tag/inspirational/page/1/\">inspirational</a>\n",
       "<a class=\"tag\" href=\"/tag/life/page/1/\">life</a>\n",
       "<a class=\"tag\" href=\"/tag/live/page/1/\">live</a>\n",
       "<a class=\"tag\" href=\"/tag/miracle/page/1/\">miracle</a>\n",
       "<a class=\"tag\" href=\"/tag/miracles/page/1/\">miracles</a>\n",
       "</div>\n",
       "</div>\n",
       "<div class=\"quote\" itemscope=\"\" itemtype=\"http://schema.org/CreativeWork\">\n",
       "<span class=\"text\" itemprop=\"text\">“The person, be it gentleman or lady, who has not pleasure in a good novel, must be intolerably stupid.”</span>\n",
       "<span>by <small class=\"author\" itemprop=\"author\">Jane Austen</small>\n",
       "<a href=\"/author/Jane-Austen\">(about)</a>\n",
       "</span>\n",
       "<div class=\"tags\">\n",
       "            Tags:\n",
       "            <meta class=\"keywords\" content=\"aliteracy,books,classic,humor\" itemprop=\"keywords\"/>\n",
       "<a class=\"tag\" href=\"/tag/aliteracy/page/1/\">aliteracy</a>\n",
       "<a class=\"tag\" href=\"/tag/books/page/1/\">books</a>\n",
       "<a class=\"tag\" href=\"/tag/classic/page/1/\">classic</a>\n",
       "<a class=\"tag\" href=\"/tag/humor/page/1/\">humor</a>\n",
       "</div>\n",
       "</div>\n",
       "<div class=\"quote\" itemscope=\"\" itemtype=\"http://schema.org/CreativeWork\">\n",
       "<span class=\"text\" itemprop=\"text\">“Imperfection is beauty, madness is genius and it's better to be absolutely ridiculous than absolutely boring.”</span>\n",
       "<span>by <small class=\"author\" itemprop=\"author\">Marilyn Monroe</small>\n",
       "<a href=\"/author/Marilyn-Monroe\">(about)</a>\n",
       "</span>\n",
       "<div class=\"tags\">\n",
       "            Tags:\n",
       "            <meta class=\"keywords\" content=\"be-yourself,inspirational\" itemprop=\"keywords\"/>\n",
       "<a class=\"tag\" href=\"/tag/be-yourself/page/1/\">be-yourself</a>\n",
       "<a class=\"tag\" href=\"/tag/inspirational/page/1/\">inspirational</a>\n",
       "</div>\n",
       "</div>\n",
       "<div class=\"quote\" itemscope=\"\" itemtype=\"http://schema.org/CreativeWork\">\n",
       "<span class=\"text\" itemprop=\"text\">“Try not to become a man of success. Rather become a man of value.”</span>\n",
       "<span>by <small class=\"author\" itemprop=\"author\">Albert Einstein</small>\n",
       "<a href=\"/author/Albert-Einstein\">(about)</a>\n",
       "</span>\n",
       "<div class=\"tags\">\n",
       "            Tags:\n",
       "            <meta class=\"keywords\" content=\"adulthood,success,value\" itemprop=\"keywords\"/>\n",
       "<a class=\"tag\" href=\"/tag/adulthood/page/1/\">adulthood</a>\n",
       "<a class=\"tag\" href=\"/tag/success/page/1/\">success</a>\n",
       "<a class=\"tag\" href=\"/tag/value/page/1/\">value</a>\n",
       "</div>\n",
       "</div>\n",
       "<div class=\"quote\" itemscope=\"\" itemtype=\"http://schema.org/CreativeWork\">\n",
       "<span class=\"text\" itemprop=\"text\">“It is better to be hated for what you are than to be loved for what you are not.”</span>\n",
       "<span>by <small class=\"author\" itemprop=\"author\">André Gide</small>\n",
       "<a href=\"/author/Andre-Gide\">(about)</a>\n",
       "</span>\n",
       "<div class=\"tags\">\n",
       "            Tags:\n",
       "            <meta class=\"keywords\" content=\"life,love\" itemprop=\"keywords\"/>\n",
       "<a class=\"tag\" href=\"/tag/life/page/1/\">life</a>\n",
       "<a class=\"tag\" href=\"/tag/love/page/1/\">love</a>\n",
       "</div>\n",
       "</div>\n",
       "<div class=\"quote\" itemscope=\"\" itemtype=\"http://schema.org/CreativeWork\">\n",
       "<span class=\"text\" itemprop=\"text\">“I have not failed. I've just found 10,000 ways that won't work.”</span>\n",
       "<span>by <small class=\"author\" itemprop=\"author\">Thomas A. Edison</small>\n",
       "<a href=\"/author/Thomas-A-Edison\">(about)</a>\n",
       "</span>\n",
       "<div class=\"tags\">\n",
       "            Tags:\n",
       "            <meta class=\"keywords\" content=\"edison,failure,inspirational,paraphrased\" itemprop=\"keywords\"/>\n",
       "<a class=\"tag\" href=\"/tag/edison/page/1/\">edison</a>\n",
       "<a class=\"tag\" href=\"/tag/failure/page/1/\">failure</a>\n",
       "<a class=\"tag\" href=\"/tag/inspirational/page/1/\">inspirational</a>\n",
       "<a class=\"tag\" href=\"/tag/paraphrased/page/1/\">paraphrased</a>\n",
       "</div>\n",
       "</div>\n",
       "<div class=\"quote\" itemscope=\"\" itemtype=\"http://schema.org/CreativeWork\">\n",
       "<span class=\"text\" itemprop=\"text\">“A woman is like a tea bag; you never know how strong it is until it's in hot water.”</span>\n",
       "<span>by <small class=\"author\" itemprop=\"author\">Eleanor Roosevelt</small>\n",
       "<a href=\"/author/Eleanor-Roosevelt\">(about)</a>\n",
       "</span>\n",
       "<div class=\"tags\">\n",
       "            Tags:\n",
       "            <meta class=\"keywords\" content=\"misattributed-eleanor-roosevelt\" itemprop=\"keywords\"/>\n",
       "<a class=\"tag\" href=\"/tag/misattributed-eleanor-roosevelt/page/1/\">misattributed-eleanor-roosevelt</a>\n",
       "</div>\n",
       "</div>\n",
       "<div class=\"quote\" itemscope=\"\" itemtype=\"http://schema.org/CreativeWork\">\n",
       "<span class=\"text\" itemprop=\"text\">“A day without sunshine is like, you know, night.”</span>\n",
       "<span>by <small class=\"author\" itemprop=\"author\">Steve Martin</small>\n",
       "<a href=\"/author/Steve-Martin\">(about)</a>\n",
       "</span>\n",
       "<div class=\"tags\">\n",
       "            Tags:\n",
       "            <meta class=\"keywords\" content=\"humor,obvious,simile\" itemprop=\"keywords\"/>\n",
       "<a class=\"tag\" href=\"/tag/humor/page/1/\">humor</a>\n",
       "<a class=\"tag\" href=\"/tag/obvious/page/1/\">obvious</a>\n",
       "<a class=\"tag\" href=\"/tag/simile/page/1/\">simile</a>\n",
       "</div>\n",
       "</div>\n",
       "<nav>\n",
       "<ul class=\"pager\">\n",
       "<li class=\"next\">\n",
       "<a href=\"/page/2/\">Next <span aria-hidden=\"true\">→</span></a>\n",
       "</li>\n",
       "</ul>\n",
       "</nav>\n",
       "</div>\n",
       "<div class=\"col-md-4 tags-box\">\n",
       "<h2>Top Ten tags</h2>\n",
       "<span class=\"tag-item\">\n",
       "<a class=\"tag\" href=\"/tag/love/\" style=\"font-size: 28px\">love</a>\n",
       "</span>\n",
       "<span class=\"tag-item\">\n",
       "<a class=\"tag\" href=\"/tag/inspirational/\" style=\"font-size: 26px\">inspirational</a>\n",
       "</span>\n",
       "<span class=\"tag-item\">\n",
       "<a class=\"tag\" href=\"/tag/life/\" style=\"font-size: 26px\">life</a>\n",
       "</span>\n",
       "<span class=\"tag-item\">\n",
       "<a class=\"tag\" href=\"/tag/humor/\" style=\"font-size: 24px\">humor</a>\n",
       "</span>\n",
       "<span class=\"tag-item\">\n",
       "<a class=\"tag\" href=\"/tag/books/\" style=\"font-size: 22px\">books</a>\n",
       "</span>\n",
       "<span class=\"tag-item\">\n",
       "<a class=\"tag\" href=\"/tag/reading/\" style=\"font-size: 14px\">reading</a>\n",
       "</span>\n",
       "<span class=\"tag-item\">\n",
       "<a class=\"tag\" href=\"/tag/friendship/\" style=\"font-size: 10px\">friendship</a>\n",
       "</span>\n",
       "<span class=\"tag-item\">\n",
       "<a class=\"tag\" href=\"/tag/friends/\" style=\"font-size: 8px\">friends</a>\n",
       "</span>\n",
       "<span class=\"tag-item\">\n",
       "<a class=\"tag\" href=\"/tag/truth/\" style=\"font-size: 8px\">truth</a>\n",
       "</span>\n",
       "<span class=\"tag-item\">\n",
       "<a class=\"tag\" href=\"/tag/simile/\" style=\"font-size: 6px\">simile</a>\n",
       "</span>\n",
       "</div>\n",
       "</div>\n",
       "</div>\n",
       "<footer class=\"footer\">\n",
       "<div class=\"container\">\n",
       "<p class=\"text-muted\">\n",
       "                Quotes by: <a href=\"https://www.goodreads.com/quotes\">GoodReads.com</a>\n",
       "</p>\n",
       "<p class=\"copyright\">\n",
       "                Made with <span class=\"sh-red\">❤</span> by <a href=\"https://scrapinghub.com\">Scrapinghub</a>\n",
       "</p>\n",
       "</div>\n",
       "</footer>\n",
       "</body>\n",
       "</html>"
      ]
     },
     "execution_count": 8,
     "metadata": {},
     "output_type": "execute_result"
    }
   ],
   "source": [
    "soup"
   ]
  },
  {
   "cell_type": "code",
   "execution_count": 10,
   "id": "c8862577",
   "metadata": {},
   "outputs": [],
   "source": [
    "s=soup.find_all('span',{'class':'tag-item'})"
   ]
  },
  {
   "cell_type": "code",
   "execution_count": 11,
   "id": "147435eb",
   "metadata": {},
   "outputs": [
    {
     "data": {
      "text/plain": [
       "10"
      ]
     },
     "execution_count": 11,
     "metadata": {},
     "output_type": "execute_result"
    }
   ],
   "source": [
    "len(s)"
   ]
  },
  {
   "cell_type": "code",
   "execution_count": 14,
   "id": "862969b7",
   "metadata": {},
   "outputs": [
    {
     "data": {
      "text/plain": [
       "'love'"
      ]
     },
     "execution_count": 14,
     "metadata": {},
     "output_type": "execute_result"
    }
   ],
   "source": [
    "s[0].text.strip()"
   ]
  },
  {
   "cell_type": "code",
   "execution_count": 15,
   "id": "fbdccd01",
   "metadata": {},
   "outputs": [
    {
     "data": {
      "text/plain": [
       "'/tag/love/'"
      ]
     },
     "execution_count": 15,
     "metadata": {},
     "output_type": "execute_result"
    }
   ],
   "source": [
    "s[0].a['href']"
   ]
  },
  {
   "cell_type": "code",
   "execution_count": 16,
   "id": "c5b91e2f",
   "metadata": {},
   "outputs": [],
   "source": [
    "q='https://quotes.toscrape.com'+s[0].a['href']"
   ]
  },
  {
   "cell_type": "code",
   "execution_count": 17,
   "id": "b887b759",
   "metadata": {},
   "outputs": [
    {
     "data": {
      "text/plain": [
       "'https://quotes.toscrape.com/tag/love/'"
      ]
     },
     "execution_count": 17,
     "metadata": {},
     "output_type": "execute_result"
    }
   ],
   "source": [
    "q"
   ]
  },
  {
   "cell_type": "code",
   "execution_count": 18,
   "id": "7f4ec0b0",
   "metadata": {},
   "outputs": [
    {
     "name": "stdout",
     "output_type": "stream",
     "text": [
      "https://quotes.toscrape.com/tag/love/\n"
     ]
    }
   ],
   "source": [
    "print(q)"
   ]
  },
  {
   "cell_type": "code",
   "execution_count": 21,
   "id": "5ae569cc",
   "metadata": {},
   "outputs": [],
   "source": [
    "quotes_name=[]\n",
    "quotes_url=[]\n",
    "\n",
    "tag=soup.find_all('span',{'class':'tag-item'})\n",
    "for i in range(0,10):\n",
    "    quotes_name.append(tag[i].text.strip())\n",
    "    quotes_url.append('https://quotes.toscrape.com/'+tag[i].a['href'])"
   ]
  },
  {
   "cell_type": "code",
   "execution_count": 22,
   "id": "a5cc3775",
   "metadata": {},
   "outputs": [
    {
     "data": {
      "text/plain": [
       "['love',\n",
       " 'inspirational',\n",
       " 'life',\n",
       " 'humor',\n",
       " 'books',\n",
       " 'reading',\n",
       " 'friendship',\n",
       " 'friends',\n",
       " 'truth',\n",
       " 'simile']"
      ]
     },
     "execution_count": 22,
     "metadata": {},
     "output_type": "execute_result"
    }
   ],
   "source": [
    "quotes_name"
   ]
  },
  {
   "cell_type": "code",
   "execution_count": 25,
   "id": "2f046d80",
   "metadata": {},
   "outputs": [
    {
     "name": "stdout",
     "output_type": "stream",
     "text": [
      "https://quotes.toscrape.com//tag/books/\n"
     ]
    }
   ],
   "source": [
    "print(quotes_url[4])"
   ]
  },
  {
   "cell_type": "code",
   "execution_count": 26,
   "id": "96be5bc1",
   "metadata": {},
   "outputs": [],
   "source": [
    "response=requests.get(quotes_url[4])"
   ]
  },
  {
   "cell_type": "code",
   "execution_count": 27,
   "id": "9e31be2f",
   "metadata": {},
   "outputs": [
    {
     "data": {
      "text/plain": [
       "200"
      ]
     },
     "execution_count": 27,
     "metadata": {},
     "output_type": "execute_result"
    }
   ],
   "source": [
    "response.status_code"
   ]
  },
  {
   "cell_type": "code",
   "execution_count": 28,
   "id": "0f4c80c0",
   "metadata": {},
   "outputs": [],
   "source": [
    "sop=BeautifulSoup(response.text,'html.parser')"
   ]
  },
  {
   "cell_type": "code",
   "execution_count": 29,
   "id": "be42b4db",
   "metadata": {},
   "outputs": [
    {
     "data": {
      "text/plain": [
       "<!DOCTYPE html>\n",
       "\n",
       "<html lang=\"en\">\n",
       "<head>\n",
       "<meta charset=\"utf-8\"/>\n",
       "<title>Quotes to Scrape</title>\n",
       "<link href=\"/static/bootstrap.min.css\" rel=\"stylesheet\"/>\n",
       "<link href=\"/static/main.css\" rel=\"stylesheet\"/>\n",
       "</head>\n",
       "<body>\n",
       "<div class=\"container\">\n",
       "<div class=\"row header-box\">\n",
       "<div class=\"col-md-8\">\n",
       "<h1>\n",
       "<a href=\"/\" style=\"text-decoration: none\">Quotes to Scrape</a>\n",
       "</h1>\n",
       "</div>\n",
       "<div class=\"col-md-4\">\n",
       "<p>\n",
       "<a href=\"/login\">Login</a>\n",
       "</p>\n",
       "</div>\n",
       "</div>\n",
       "<h3>Viewing tag: <a href=\"/tag/books/page/1/\">books</a></h3>\n",
       "<div class=\"row\">\n",
       "<div class=\"col-md-8\">\n",
       "<div class=\"quote\" itemscope=\"\" itemtype=\"http://schema.org/CreativeWork\">\n",
       "<span class=\"text\" itemprop=\"text\">“The person, be it gentleman or lady, who has not pleasure in a good novel, must be intolerably stupid.”</span>\n",
       "<span>by <small class=\"author\" itemprop=\"author\">Jane Austen</small>\n",
       "<a href=\"/author/Jane-Austen\">(about)</a>\n",
       "</span>\n",
       "<div class=\"tags\">\n",
       "            Tags:\n",
       "            <meta class=\"keywords\" content=\"aliteracy,books,classic,humor\" itemprop=\"keywords\"/>\n",
       "<a class=\"tag\" href=\"/tag/aliteracy/page/1/\">aliteracy</a>\n",
       "<a class=\"tag\" href=\"/tag/books/page/1/\">books</a>\n",
       "<a class=\"tag\" href=\"/tag/classic/page/1/\">classic</a>\n",
       "<a class=\"tag\" href=\"/tag/humor/page/1/\">humor</a>\n",
       "</div>\n",
       "</div>\n",
       "<div class=\"quote\" itemscope=\"\" itemtype=\"http://schema.org/CreativeWork\">\n",
       "<span class=\"text\" itemprop=\"text\">“Good friends, good books, and a sleepy conscience: this is the ideal life.”</span>\n",
       "<span>by <small class=\"author\" itemprop=\"author\">Mark Twain</small>\n",
       "<a href=\"/author/Mark-Twain\">(about)</a>\n",
       "</span>\n",
       "<div class=\"tags\">\n",
       "            Tags:\n",
       "            <meta class=\"keywords\" content=\"books,contentment,friends,friendship,life\" itemprop=\"keywords\"/>\n",
       "<a class=\"tag\" href=\"/tag/books/page/1/\">books</a>\n",
       "<a class=\"tag\" href=\"/tag/contentment/page/1/\">contentment</a>\n",
       "<a class=\"tag\" href=\"/tag/friends/page/1/\">friends</a>\n",
       "<a class=\"tag\" href=\"/tag/friendship/page/1/\">friendship</a>\n",
       "<a class=\"tag\" href=\"/tag/life/page/1/\">life</a>\n",
       "</div>\n",
       "</div>\n",
       "<div class=\"quote\" itemscope=\"\" itemtype=\"http://schema.org/CreativeWork\">\n",
       "<span class=\"text\" itemprop=\"text\">“I have always imagined that Paradise will be a kind of library.”</span>\n",
       "<span>by <small class=\"author\" itemprop=\"author\">Jorge Luis Borges</small>\n",
       "<a href=\"/author/Jorge-Luis-Borges\">(about)</a>\n",
       "</span>\n",
       "<div class=\"tags\">\n",
       "            Tags:\n",
       "            <meta class=\"keywords\" content=\"books,library\" itemprop=\"keywords\"/>\n",
       "<a class=\"tag\" href=\"/tag/books/page/1/\">books</a>\n",
       "<a class=\"tag\" href=\"/tag/library/page/1/\">library</a>\n",
       "</div>\n",
       "</div>\n",
       "<div class=\"quote\" itemscope=\"\" itemtype=\"http://schema.org/CreativeWork\">\n",
       "<span class=\"text\" itemprop=\"text\">“You can never get a cup of tea large enough or a book long enough to suit me.”</span>\n",
       "<span>by <small class=\"author\" itemprop=\"author\">C.S. Lewis</small>\n",
       "<a href=\"/author/C-S-Lewis\">(about)</a>\n",
       "</span>\n",
       "<div class=\"tags\">\n",
       "            Tags:\n",
       "            <meta class=\"keywords\" content=\"books,inspirational,reading,tea\" itemprop=\"keywords\"/>\n",
       "<a class=\"tag\" href=\"/tag/books/page/1/\">books</a>\n",
       "<a class=\"tag\" href=\"/tag/inspirational/page/1/\">inspirational</a>\n",
       "<a class=\"tag\" href=\"/tag/reading/page/1/\">reading</a>\n",
       "<a class=\"tag\" href=\"/tag/tea/page/1/\">tea</a>\n",
       "</div>\n",
       "</div>\n",
       "<div class=\"quote\" itemscope=\"\" itemtype=\"http://schema.org/CreativeWork\">\n",
       "<span class=\"text\" itemprop=\"text\">“If you only read the books that everyone else is reading, you can only think what everyone else is thinking.”</span>\n",
       "<span>by <small class=\"author\" itemprop=\"author\">Haruki Murakami</small>\n",
       "<a href=\"/author/Haruki-Murakami\">(about)</a>\n",
       "</span>\n",
       "<div class=\"tags\">\n",
       "            Tags:\n",
       "            <meta class=\"keywords\" content=\"books,thought\" itemprop=\"keywords\"/>\n",
       "<a class=\"tag\" href=\"/tag/books/page/1/\">books</a>\n",
       "<a class=\"tag\" href=\"/tag/thought/page/1/\">thought</a>\n",
       "</div>\n",
       "</div>\n",
       "<div class=\"quote\" itemscope=\"\" itemtype=\"http://schema.org/CreativeWork\">\n",
       "<span class=\"text\" itemprop=\"text\">“There is no friend as loyal as a book.”</span>\n",
       "<span>by <small class=\"author\" itemprop=\"author\">Ernest Hemingway</small>\n",
       "<a href=\"/author/Ernest-Hemingway\">(about)</a>\n",
       "</span>\n",
       "<div class=\"tags\">\n",
       "            Tags:\n",
       "            <meta class=\"keywords\" content=\"books,friends,novelist-quotes\" itemprop=\"keywords\"/>\n",
       "<a class=\"tag\" href=\"/tag/books/page/1/\">books</a>\n",
       "<a class=\"tag\" href=\"/tag/friends/page/1/\">friends</a>\n",
       "<a class=\"tag\" href=\"/tag/novelist-quotes/page/1/\">novelist-quotes</a>\n",
       "</div>\n",
       "</div>\n",
       "<div class=\"quote\" itemscope=\"\" itemtype=\"http://schema.org/CreativeWork\">\n",
       "<span class=\"text\" itemprop=\"text\">“What really knocks me out is a book that, when you're all done reading it, you wish the author that wrote it was a terrific friend of yours and you could call him up on the phone whenever you felt like it. That doesn't happen much, though.”</span>\n",
       "<span>by <small class=\"author\" itemprop=\"author\">J.D. Salinger</small>\n",
       "<a href=\"/author/J-D-Salinger\">(about)</a>\n",
       "</span>\n",
       "<div class=\"tags\">\n",
       "            Tags:\n",
       "            <meta class=\"keywords\" content=\"authors,books,literature,reading,writing\" itemprop=\"keywords\"/>\n",
       "<a class=\"tag\" href=\"/tag/authors/page/1/\">authors</a>\n",
       "<a class=\"tag\" href=\"/tag/books/page/1/\">books</a>\n",
       "<a class=\"tag\" href=\"/tag/literature/page/1/\">literature</a>\n",
       "<a class=\"tag\" href=\"/tag/reading/page/1/\">reading</a>\n",
       "<a class=\"tag\" href=\"/tag/writing/page/1/\">writing</a>\n",
       "</div>\n",
       "</div>\n",
       "<div class=\"quote\" itemscope=\"\" itemtype=\"http://schema.org/CreativeWork\">\n",
       "<span class=\"text\" itemprop=\"text\">“′Classic′ - a book which people praise and don't read.”</span>\n",
       "<span>by <small class=\"author\" itemprop=\"author\">Mark Twain</small>\n",
       "<a href=\"/author/Mark-Twain\">(about)</a>\n",
       "</span>\n",
       "<div class=\"tags\">\n",
       "            Tags:\n",
       "            <meta class=\"keywords\" content=\"books,classic,reading\" itemprop=\"keywords\"/>\n",
       "<a class=\"tag\" href=\"/tag/books/page/1/\">books</a>\n",
       "<a class=\"tag\" href=\"/tag/classic/page/1/\">classic</a>\n",
       "<a class=\"tag\" href=\"/tag/reading/page/1/\">reading</a>\n",
       "</div>\n",
       "</div>\n",
       "<div class=\"quote\" itemscope=\"\" itemtype=\"http://schema.org/CreativeWork\">\n",
       "<span class=\"text\" itemprop=\"text\">“I declare after all there is no enjoyment like reading! How much sooner one tires of any thing than of a book! -- When I have a house of my own, I shall be miserable if I have not an excellent library.”</span>\n",
       "<span>by <small class=\"author\" itemprop=\"author\">Jane Austen</small>\n",
       "<a href=\"/author/Jane-Austen\">(about)</a>\n",
       "</span>\n",
       "<div class=\"tags\">\n",
       "            Tags:\n",
       "            <meta class=\"keywords\" content=\"books,library,reading\" itemprop=\"keywords\"/>\n",
       "<a class=\"tag\" href=\"/tag/books/page/1/\">books</a>\n",
       "<a class=\"tag\" href=\"/tag/library/page/1/\">library</a>\n",
       "<a class=\"tag\" href=\"/tag/reading/page/1/\">reading</a>\n",
       "</div>\n",
       "</div>\n",
       "<div class=\"quote\" itemscope=\"\" itemtype=\"http://schema.org/CreativeWork\">\n",
       "<span class=\"text\" itemprop=\"text\">“You have to write the book that wants to be written. And if the book will be too difficult for grown-ups, then you write it for children.”</span>\n",
       "<span>by <small class=\"author\" itemprop=\"author\">Madeleine L'Engle</small>\n",
       "<a href=\"/author/Madeleine-LEngle\">(about)</a>\n",
       "</span>\n",
       "<div class=\"tags\">\n",
       "            Tags:\n",
       "            <meta class=\"keywords\" content=\"books,children,difficult,grown-ups,write,writers,writing\" itemprop=\"keywords\"/>\n",
       "<a class=\"tag\" href=\"/tag/books/page/1/\">books</a>\n",
       "<a class=\"tag\" href=\"/tag/children/page/1/\">children</a>\n",
       "<a class=\"tag\" href=\"/tag/difficult/page/1/\">difficult</a>\n",
       "<a class=\"tag\" href=\"/tag/grown-ups/page/1/\">grown-ups</a>\n",
       "<a class=\"tag\" href=\"/tag/write/page/1/\">write</a>\n",
       "<a class=\"tag\" href=\"/tag/writers/page/1/\">writers</a>\n",
       "<a class=\"tag\" href=\"/tag/writing/page/1/\">writing</a>\n",
       "</div>\n",
       "</div>\n",
       "<nav>\n",
       "<ul class=\"pager\">\n",
       "<li class=\"next\">\n",
       "<a href=\"/tag/books/page/2/\">Next <span aria-hidden=\"true\">→</span></a>\n",
       "</li>\n",
       "</ul>\n",
       "</nav>\n",
       "</div>\n",
       "<div class=\"col-md-4 tags-box\">\n",
       "<h2>Top Ten tags</h2>\n",
       "<span class=\"tag-item\">\n",
       "<a class=\"tag\" href=\"/tag/love/\" style=\"font-size: 28px\">love</a>\n",
       "</span>\n",
       "<span class=\"tag-item\">\n",
       "<a class=\"tag\" href=\"/tag/inspirational/\" style=\"font-size: 26px\">inspirational</a>\n",
       "</span>\n",
       "<span class=\"tag-item\">\n",
       "<a class=\"tag\" href=\"/tag/life/\" style=\"font-size: 26px\">life</a>\n",
       "</span>\n",
       "<span class=\"tag-item\">\n",
       "<a class=\"tag\" href=\"/tag/humor/\" style=\"font-size: 24px\">humor</a>\n",
       "</span>\n",
       "<span class=\"tag-item\">\n",
       "<a class=\"tag\" href=\"/tag/books/\" style=\"font-size: 22px\">books</a>\n",
       "</span>\n",
       "<span class=\"tag-item\">\n",
       "<a class=\"tag\" href=\"/tag/reading/\" style=\"font-size: 14px\">reading</a>\n",
       "</span>\n",
       "<span class=\"tag-item\">\n",
       "<a class=\"tag\" href=\"/tag/friendship/\" style=\"font-size: 10px\">friendship</a>\n",
       "</span>\n",
       "<span class=\"tag-item\">\n",
       "<a class=\"tag\" href=\"/tag/friends/\" style=\"font-size: 8px\">friends</a>\n",
       "</span>\n",
       "<span class=\"tag-item\">\n",
       "<a class=\"tag\" href=\"/tag/truth/\" style=\"font-size: 8px\">truth</a>\n",
       "</span>\n",
       "<span class=\"tag-item\">\n",
       "<a class=\"tag\" href=\"/tag/simile/\" style=\"font-size: 6px\">simile</a>\n",
       "</span>\n",
       "</div>\n",
       "</div>\n",
       "</div>\n",
       "<footer class=\"footer\">\n",
       "<div class=\"container\">\n",
       "<p class=\"text-muted\">\n",
       "                Quotes by: <a href=\"https://www.goodreads.com/quotes\">GoodReads.com</a>\n",
       "</p>\n",
       "<p class=\"copyright\">\n",
       "                Made with <span class=\"sh-red\">❤</span> by <a href=\"https://scrapinghub.com\">Scrapinghub</a>\n",
       "</p>\n",
       "</div>\n",
       "</footer>\n",
       "</body>\n",
       "</html>"
      ]
     },
     "execution_count": 29,
     "metadata": {},
     "output_type": "execute_result"
    }
   ],
   "source": [
    "sop"
   ]
  },
  {
   "cell_type": "code",
   "execution_count": 30,
   "id": "64a67b08",
   "metadata": {},
   "outputs": [],
   "source": [
    "qwe=sop.find_all('div',{'class':'quote'})"
   ]
  },
  {
   "cell_type": "code",
   "execution_count": 31,
   "id": "7abeddbe",
   "metadata": {},
   "outputs": [
    {
     "data": {
      "text/plain": [
       "10"
      ]
     },
     "execution_count": 31,
     "metadata": {},
     "output_type": "execute_result"
    }
   ],
   "source": [
    "len(qwe)"
   ]
  },
  {
   "cell_type": "code",
   "execution_count": 41,
   "id": "784f467c",
   "metadata": {},
   "outputs": [
    {
     "data": {
      "text/plain": [
       "'“The person, be it gentleman or lady, who has not pleasure in a good novel, must be intolerably stupid.”'"
      ]
     },
     "execution_count": 41,
     "metadata": {},
     "output_type": "execute_result"
    }
   ],
   "source": [
    "qwe[0].find('span',{'class':'text'}).text.strip()"
   ]
  },
  {
   "cell_type": "code",
   "execution_count": 62,
   "id": "66aadca0",
   "metadata": {},
   "outputs": [
    {
     "data": {
      "text/plain": [
       "'Jane Austen'"
      ]
     },
     "execution_count": 62,
     "metadata": {},
     "output_type": "execute_result"
    }
   ],
   "source": [
    "qwe[0].find_all('span')[1].small.text.strip()"
   ]
  },
  {
   "cell_type": "code",
   "execution_count": 64,
   "id": "39dd4b6e",
   "metadata": {},
   "outputs": [
    {
     "data": {
      "text/plain": [
       "'/author/Jane-Austen'"
      ]
     },
     "execution_count": 64,
     "metadata": {},
     "output_type": "execute_result"
    }
   ],
   "source": [
    "qwe[0].find_all('span')[1].a['href']"
   ]
  },
  {
   "cell_type": "code",
   "execution_count": 132,
   "id": "20170d29",
   "metadata": {},
   "outputs": [
    {
     "data": {
      "text/plain": [
       "'aliteracy,books,classic,humor'"
      ]
     },
     "execution_count": 132,
     "metadata": {},
     "output_type": "execute_result"
    }
   ],
   "source": [
    "qwe[0].find_all('div',{'class':'tags'})[0].meta['content']"
   ]
  },
  {
   "cell_type": "code",
   "execution_count": 100,
   "id": "9f7b5d1b",
   "metadata": {},
   "outputs": [],
   "source": [
    "b=qwe[0].find('div',{'class':'tags'})"
   ]
  },
  {
   "cell_type": "code",
   "execution_count": 110,
   "id": "98be48f8",
   "metadata": {},
   "outputs": [
    {
     "data": {
      "text/plain": [
       "4"
      ]
     },
     "execution_count": 110,
     "metadata": {},
     "output_type": "execute_result"
    }
   ],
   "source": [
    "len(b.find_all('a',{'class':'tag'}))"
   ]
  },
  {
   "cell_type": "code",
   "execution_count": 131,
   "id": "fa88037d",
   "metadata": {},
   "outputs": [
    {
     "data": {
      "text/plain": [
       "'/tag/aliteracy/page/1/'"
      ]
     },
     "execution_count": 131,
     "metadata": {},
     "output_type": "execute_result"
    }
   ],
   "source": [
    "b.find_all('a',{'class':'tag'})[0]['href']"
   ]
  },
  {
   "cell_type": "code",
   "execution_count": 164,
   "id": "e52be394",
   "metadata": {},
   "outputs": [],
   "source": [
    "import os\n",
    "import re"
   ]
  },
  {
   "cell_type": "code",
   "execution_count": 180,
   "id": "e2feb11e",
   "metadata": {},
   "outputs": [],
   "source": [
    "def get_page_details(quote_url):\n",
    "    \n",
    "    #get the page\n",
    "    res=requests.get(quote_url)\n",
    "    \n",
    "    #check the status of response\n",
    "    if res.status_code != 200:\n",
    "        raise Exception('Failed to load page {}'.format(quote_url))\n",
    "    \n",
    "    #convert into BS4 for parsing\n",
    "    quote_page_doc=BeautifulSoup(res.text,'html.parser')\n",
    "    \n",
    "    return quote_page_doc\n",
    "\n",
    "\n",
    "def get_quote_details(quote_doc):\n",
    "    \n",
    "    #get all the quotes\n",
    "    quo_tags=sop.find_all('div',{'class':'quote'})\n",
    "    \n",
    "    #initializing lists\n",
    "    quotes=[]\n",
    "    auth_name=[]\n",
    "    about_auth=[]\n",
    "    tags=[]\n",
    "    \n",
    "    #getting details\n",
    "    for i in range(0,len(quo_tags)):\n",
    "        quotes.append(quo_tags[i].find('span',{'class':'text'}).text.strip())\n",
    "        auth_name.append(quo_tags[i].find_all('span')[1].small.text.strip())\n",
    "        about_auth.append('https://quotes.toscrape.com/'+quo_tags[i].find_all('span')[1].a['href'])\n",
    "        t=':'.join(re.findall(r'[^, ]+',quo_tags[i].find_all('div',{'class':'tags'})[0].meta['content']))\n",
    "        tags.append(t)\n",
    "        \n",
    "    return [quotes,auth_name,about_auth,tags]\n",
    "\n",
    "\n",
    "def write_to_csv(url,quote_name):\n",
    "\n",
    "    #get the parser page\n",
    "    doc_parse=get_page_details(url)\n",
    "    \n",
    "    #get all the details in UPC, Name, Genre, Stars, Price, Availability, Description order\n",
    "    detail_list=get_quote_details(doc_parse)\n",
    "    \n",
    "    #creating directory to store data\n",
    "    os.makedirs('Data',exist_ok=True)\n",
    "    \n",
    "    #checking if file already exists in case of failures\n",
    "    fname='Data'+'/'+quote_name+'.csv'\n",
    "    if os.path.exists(fname):\n",
    "        print(\"The file {} already exists....Skipping\".format(fname))\n",
    "        return\n",
    "    \n",
    "    #create dataframe using pandas\n",
    "    dict2={'Quote':detail_list[0],\"Author\":detail_list[1],'About the Author':detail_list[2],'Other Tags':detail_list[3]}\n",
    "    df=pd.DataFrame(dict2,index=list(range(1,11)))\n",
    "    \n",
    "    #creating CSV file\n",
    "    print(\"Creating {} .....\".format(fname))\n",
    "    df.to_csv(fname,index=None)"
   ]
  },
  {
   "cell_type": "code",
   "execution_count": 181,
   "id": "927bf563",
   "metadata": {},
   "outputs": [],
   "source": [
    "def scrape_quotes(page_url):\n",
    "    \n",
    "    #get the page\n",
    "    response=requests.get(page_url)\n",
    "    \n",
    "    #check the status of response\n",
    "    if response.status_code != 200:\n",
    "        raise Exception('Failed to load home page {}'.format(page_url))\n",
    "    \n",
    "    #convert into BS4 for parsing\n",
    "    homepage_doc=BeautifulSoup(response.text,'html.parser')\n",
    "    \n",
    "    return homepage_doc\n",
    "\n",
    "\n",
    "def get_quoteurl(homepage_doc):\n",
    "    \n",
    "    #initializing lists\n",
    "    quote_names=[]\n",
    "    quote_webpage=[]\n",
    "    \n",
    "    #get tags of the quotes\n",
    "    ttags=homepage_doc.find_all('span',{'class':'tag-item'})\n",
    "    #get all the quotes' name and url\n",
    "    for i in range(0,len(ttags)):\n",
    "        quote_names.append(ttags[i].text.strip())\n",
    "        quote_webpage.append('https://quotes.toscrape.com/'+ttags[i].a['href'])\n",
    "        \n",
    "    return [quote_names,quote_webpage]\n",
    "\n",
    "\n",
    "def driver(url):\n",
    "    i=scrape_quotes(url)\n",
    "    the_lists=get_quoteurl(i)\n",
    "    \n",
    "    #create dataframe using pandas\n",
    "    dict1={'Quote Tag':the_lists[0],\"URL\":the_lists[1]}\n",
    "    df=pd.DataFrame(dict1,index=list(range(1,11)))\n",
    "\n",
    "    #create csv\n",
    "    if os.path.exists('Quotes.csv'):\n",
    "        print(\"The file {} already exists.....Skipping\".format('Quotes.csv'))\n",
    "    else:\n",
    "        print(\"Creating Quotes.csv .....\")\n",
    "        df.to_csv('Quotes.csv',index=None)\n",
    "    \n",
    "    #Scraping the quote webpages\n",
    "    for i in range(0,10):\n",
    "        print(\"Scraping {}\".format(the_lists[0][i]))\n",
    "        write_to_csv(the_lists[1][i],the_lists[0][i])\n"
   ]
  },
  {
   "cell_type": "code",
   "execution_count": 182,
   "id": "6c064fc9",
   "metadata": {},
   "outputs": [],
   "source": [
    "def main():\n",
    "    #getting all the quote tags\n",
    "    driver('https://quotes.toscrape.com/')\n",
    "    print('Done!!')"
   ]
  },
  {
   "cell_type": "code",
   "execution_count": 183,
   "id": "89eec3da",
   "metadata": {},
   "outputs": [
    {
     "name": "stdout",
     "output_type": "stream",
     "text": [
      "The file Quotes.csv already exists.....Skipping\n",
      "Scraping love\n",
      "Creating Data/love.csv .....\n",
      "Scraping inspirational\n",
      "Creating Data/inspirational.csv .....\n",
      "Scraping life\n",
      "Creating Data/life.csv .....\n",
      "Scraping humor\n",
      "Creating Data/humor.csv .....\n",
      "Scraping books\n",
      "Creating Data/books.csv .....\n",
      "Scraping reading\n",
      "Creating Data/reading.csv .....\n",
      "Scraping friendship\n",
      "Creating Data/friendship.csv .....\n",
      "Scraping friends\n",
      "Creating Data/friends.csv .....\n",
      "Scraping truth\n",
      "Creating Data/truth.csv .....\n",
      "Scraping simile\n",
      "Creating Data/simile.csv .....\n",
      "Done!!\n"
     ]
    }
   ],
   "source": [
    "import requests\n",
    "from bs4 import BeautifulSoup\n",
    "import csv\n",
    "import pandas as pd\n",
    "import re\n",
    "import os\n",
    "main()"
   ]
  },
  {
   "cell_type": "code",
   "execution_count": null,
   "id": "3d4db421",
   "metadata": {},
   "outputs": [],
   "source": []
  }
 ],
 "metadata": {
  "kernelspec": {
   "display_name": "Python 3",
   "language": "python",
   "name": "python3"
  },
  "language_info": {
   "codemirror_mode": {
    "name": "ipython",
    "version": 3
   },
   "file_extension": ".py",
   "mimetype": "text/x-python",
   "name": "python",
   "nbconvert_exporter": "python",
   "pygments_lexer": "ipython3",
   "version": "3.8.8"
  }
 },
 "nbformat": 4,
 "nbformat_minor": 5
}
