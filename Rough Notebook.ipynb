{
 "cells": [
  {
   "cell_type": "markdown",
   "id": "76cc773c",
   "metadata": {},
   "source": [
    "# Scapping 'toscrape.com'"
   ]
  },
  {
   "cell_type": "markdown",
   "id": "a5af7297",
   "metadata": {},
   "source": [
    "### First scrapping books.toscrape.com"
   ]
  },
  {
   "cell_type": "code",
   "execution_count": 1,
   "id": "110b3bae",
   "metadata": {},
   "outputs": [],
   "source": [
    "url='https://books.toscrape.com/'"
   ]
  },
  {
   "cell_type": "code",
   "execution_count": 4,
   "id": "fbec871c",
   "metadata": {},
   "outputs": [],
   "source": [
    "import requests"
   ]
  },
  {
   "cell_type": "code",
   "execution_count": 3,
   "id": "8efcc5ad",
   "metadata": {},
   "outputs": [],
   "source": [
    "res=requests.get(url)"
   ]
  },
  {
   "cell_type": "code",
   "execution_count": 4,
   "id": "f2c0d5c7",
   "metadata": {},
   "outputs": [
    {
     "data": {
      "text/plain": [
       "200"
      ]
     },
     "execution_count": 4,
     "metadata": {},
     "output_type": "execute_result"
    }
   ],
   "source": [
    "res.status_code"
   ]
  },
  {
   "cell_type": "code",
   "execution_count": 5,
   "id": "d3dc0eb5",
   "metadata": {},
   "outputs": [
    {
     "data": {
      "text/plain": [
       "51294"
      ]
     },
     "execution_count": 5,
     "metadata": {},
     "output_type": "execute_result"
    }
   ],
   "source": [
    "len(res.text)"
   ]
  },
  {
   "cell_type": "code",
   "execution_count": 7,
   "id": "4e6e1021",
   "metadata": {},
   "outputs": [],
   "source": [
    "with open(\"Bookstoscrape.html\",'w',encoding='UTF8') as f:\n",
    "    f.write(res.text)"
   ]
  },
  {
   "cell_type": "code",
   "execution_count": 3,
   "id": "68efae69",
   "metadata": {},
   "outputs": [],
   "source": [
    "from bs4 import BeautifulSoup"
   ]
  },
  {
   "cell_type": "code",
   "execution_count": 9,
   "id": "16007b09",
   "metadata": {},
   "outputs": [],
   "source": [
    "doc=BeautifulSoup(res.text,'html.parser')"
   ]
  },
  {
   "cell_type": "code",
   "execution_count": 11,
   "id": "bfff6fa3",
   "metadata": {},
   "outputs": [],
   "source": [
    "h3_tags=doc.find_all('h3')######## name of first 20"
   ]
  },
  {
   "cell_type": "code",
   "execution_count": 12,
   "id": "2a95145f",
   "metadata": {},
   "outputs": [
    {
     "data": {
      "text/plain": [
       "20"
      ]
     },
     "execution_count": 12,
     "metadata": {},
     "output_type": "execute_result"
    }
   ],
   "source": [
    "len(h3_tags)"
   ]
  },
  {
   "cell_type": "code",
   "execution_count": 13,
   "id": "14b31e1b",
   "metadata": {},
   "outputs": [
    {
     "data": {
      "text/plain": [
       "'Tipping the Velvet'"
      ]
     },
     "execution_count": 13,
     "metadata": {},
     "output_type": "execute_result"
    }
   ],
   "source": [
    "h3_tags[1].a['title']"
   ]
  },
  {
   "cell_type": "code",
   "execution_count": 14,
   "id": "c598de2b",
   "metadata": {},
   "outputs": [
    {
     "data": {
      "text/plain": [
       "'catalogue/tipping-the-velvet_999/index.html'"
      ]
     },
     "execution_count": 14,
     "metadata": {},
     "output_type": "execute_result"
    }
   ],
   "source": [
    "h3_tags[1].a['href']"
   ]
  },
  {
   "cell_type": "code",
   "execution_count": 15,
   "id": "2fe7408a",
   "metadata": {},
   "outputs": [],
   "source": [
    "q=h3_tags[1].a['href']"
   ]
  },
  {
   "cell_type": "code",
   "execution_count": 16,
   "id": "a3c187d3",
   "metadata": {},
   "outputs": [],
   "source": [
    "nextpageurl='https://books.toscrape.com/'+q ######## link to the page of the book"
   ]
  },
  {
   "cell_type": "code",
   "execution_count": 18,
   "id": "a72f4f19",
   "metadata": {},
   "outputs": [
    {
     "name": "stdout",
     "output_type": "stream",
     "text": [
      "https://books.toscrape.com/catalogue/tipping-the-velvet_999/index.html\n"
     ]
    }
   ],
   "source": [
    "print(nextpageurl)"
   ]
  },
  {
   "cell_type": "code",
   "execution_count": 101,
   "id": "a2ba3be1",
   "metadata": {},
   "outputs": [],
   "source": [
    "q=h3_tags[4].a['href']"
   ]
  },
  {
   "cell_type": "code",
   "execution_count": 102,
   "id": "1070f8f0",
   "metadata": {},
   "outputs": [],
   "source": [
    "nxt='https://books.toscrape.com/'+q"
   ]
  },
  {
   "cell_type": "code",
   "execution_count": 103,
   "id": "91ed89f2",
   "metadata": {},
   "outputs": [
    {
     "name": "stdout",
     "output_type": "stream",
     "text": [
      "https://books.toscrape.com/catalogue/sapiens-a-brief-history-of-humankind_996/index.html\n"
     ]
    }
   ],
   "source": [
    "print(nxt)"
   ]
  },
  {
   "cell_type": "code",
   "execution_count": 19,
   "id": "178c8b80",
   "metadata": {},
   "outputs": [],
   "source": [
    "url2=nextpageurl"
   ]
  },
  {
   "cell_type": "code",
   "execution_count": 20,
   "id": "241ab602",
   "metadata": {},
   "outputs": [],
   "source": [
    "res2=requests.get(url2)#### requesting the page of the book"
   ]
  },
  {
   "cell_type": "code",
   "execution_count": 21,
   "id": "2403216d",
   "metadata": {},
   "outputs": [
    {
     "data": {
      "text/plain": [
       "200"
      ]
     },
     "execution_count": 21,
     "metadata": {},
     "output_type": "execute_result"
    }
   ],
   "source": [
    "res2.status_code"
   ]
  },
  {
   "cell_type": "code",
   "execution_count": 22,
   "id": "a5f46729",
   "metadata": {},
   "outputs": [],
   "source": [
    "doc2=BeautifulSoup(res2.text,'html.parser')"
   ]
  },
  {
   "cell_type": "code",
   "execution_count": 23,
   "id": "39c1ee3b",
   "metadata": {},
   "outputs": [],
   "source": [
    "genre=doc2.find_all('ul',{'class':'breadcrumb'}) ######### get the genre of the book"
   ]
  },
  {
   "cell_type": "code",
   "execution_count": 24,
   "id": "1098f399",
   "metadata": {},
   "outputs": [
    {
     "data": {
      "text/plain": [
       "'Historical Fiction'"
      ]
     },
     "execution_count": 24,
     "metadata": {},
     "output_type": "execute_result"
    }
   ],
   "source": [
    "genre[0].find_all('a')[2].text"
   ]
  },
  {
   "cell_type": "code",
   "execution_count": 25,
   "id": "2d516de8",
   "metadata": {},
   "outputs": [],
   "source": [
    "details=doc2.find_all('table',{'class':'table table-striped'})###### get all the details of the book"
   ]
  },
  {
   "cell_type": "code",
   "execution_count": 162,
   "id": "6d9b2996",
   "metadata": {},
   "outputs": [
    {
     "data": {
      "text/plain": [
       "'90fa61229261140a'"
      ]
     },
     "execution_count": 162,
     "metadata": {},
     "output_type": "execute_result"
    }
   ],
   "source": [
    "details[0].find_all('tr')[0].text.strip()[3:]"
   ]
  },
  {
   "cell_type": "code",
   "execution_count": null,
   "id": "33fb8fb7",
   "metadata": {},
   "outputs": [],
   "source": []
  },
  {
   "cell_type": "code",
   "execution_count": null,
   "id": "a7d2188d",
   "metadata": {},
   "outputs": [],
   "source": []
  },
  {
   "cell_type": "code",
   "execution_count": null,
   "id": "f425b4b8",
   "metadata": {},
   "outputs": [],
   "source": []
  },
  {
   "cell_type": "code",
   "execution_count": 67,
   "id": "36aaa6d3",
   "metadata": {},
   "outputs": [],
   "source": [
    "book_names=[]\n",
    "book_webpage=[]\n",
    "\n",
    "for i in range(0,20):\n",
    "    book_names.append(h3_tags[i].a['title'])\n",
    "    q='https://books.toscrape.com/'+h3_tags[i].a['href']\n",
    "    book_webpage.append(q)"
   ]
  },
  {
   "cell_type": "code",
   "execution_count": 2,
   "id": "d7a88892",
   "metadata": {},
   "outputs": [],
   "source": [
    "import pandas as pd\n",
    "#dict1={'Name':book_names,\"URL\":book_webpage}\n",
    "#df=pd.DataFrame(dict1,index=list(range(1,21)))"
   ]
  },
  {
   "cell_type": "code",
   "execution_count": 74,
   "id": "dd46f94e",
   "metadata": {},
   "outputs": [
    {
     "data": {
      "text/html": [
       "<div>\n",
       "<style scoped>\n",
       "    .dataframe tbody tr th:only-of-type {\n",
       "        vertical-align: middle;\n",
       "    }\n",
       "\n",
       "    .dataframe tbody tr th {\n",
       "        vertical-align: top;\n",
       "    }\n",
       "\n",
       "    .dataframe thead th {\n",
       "        text-align: right;\n",
       "    }\n",
       "</style>\n",
       "<table border=\"1\" class=\"dataframe\">\n",
       "  <thead>\n",
       "    <tr style=\"text-align: right;\">\n",
       "      <th></th>\n",
       "      <th>Name</th>\n",
       "      <th>URL</th>\n",
       "    </tr>\n",
       "  </thead>\n",
       "  <tbody>\n",
       "    <tr>\n",
       "      <th>1</th>\n",
       "      <td>A Light in the Attic</td>\n",
       "      <td>https://books.toscrape.com/catalogue/a-light-i...</td>\n",
       "    </tr>\n",
       "    <tr>\n",
       "      <th>2</th>\n",
       "      <td>Tipping the Velvet</td>\n",
       "      <td>https://books.toscrape.com/catalogue/tipping-t...</td>\n",
       "    </tr>\n",
       "    <tr>\n",
       "      <th>3</th>\n",
       "      <td>Soumission</td>\n",
       "      <td>https://books.toscrape.com/catalogue/soumissio...</td>\n",
       "    </tr>\n",
       "    <tr>\n",
       "      <th>4</th>\n",
       "      <td>Sharp Objects</td>\n",
       "      <td>https://books.toscrape.com/catalogue/sharp-obj...</td>\n",
       "    </tr>\n",
       "    <tr>\n",
       "      <th>5</th>\n",
       "      <td>Sapiens: A Brief History of Humankind</td>\n",
       "      <td>https://books.toscrape.com/catalogue/sapiens-a...</td>\n",
       "    </tr>\n",
       "    <tr>\n",
       "      <th>6</th>\n",
       "      <td>The Requiem Red</td>\n",
       "      <td>https://books.toscrape.com/catalogue/the-requi...</td>\n",
       "    </tr>\n",
       "    <tr>\n",
       "      <th>7</th>\n",
       "      <td>The Dirty Little Secrets of Getting Your Dream...</td>\n",
       "      <td>https://books.toscrape.com/catalogue/the-dirty...</td>\n",
       "    </tr>\n",
       "    <tr>\n",
       "      <th>8</th>\n",
       "      <td>The Coming Woman: A Novel Based on the Life of...</td>\n",
       "      <td>https://books.toscrape.com/catalogue/the-comin...</td>\n",
       "    </tr>\n",
       "    <tr>\n",
       "      <th>9</th>\n",
       "      <td>The Boys in the Boat: Nine Americans and Their...</td>\n",
       "      <td>https://books.toscrape.com/catalogue/the-boys-...</td>\n",
       "    </tr>\n",
       "    <tr>\n",
       "      <th>10</th>\n",
       "      <td>The Black Maria</td>\n",
       "      <td>https://books.toscrape.com/catalogue/the-black...</td>\n",
       "    </tr>\n",
       "    <tr>\n",
       "      <th>11</th>\n",
       "      <td>Starving Hearts (Triangular Trade Trilogy, #1)</td>\n",
       "      <td>https://books.toscrape.com/catalogue/starving-...</td>\n",
       "    </tr>\n",
       "    <tr>\n",
       "      <th>12</th>\n",
       "      <td>Shakespeare's Sonnets</td>\n",
       "      <td>https://books.toscrape.com/catalogue/shakespea...</td>\n",
       "    </tr>\n",
       "    <tr>\n",
       "      <th>13</th>\n",
       "      <td>Set Me Free</td>\n",
       "      <td>https://books.toscrape.com/catalogue/set-me-fr...</td>\n",
       "    </tr>\n",
       "    <tr>\n",
       "      <th>14</th>\n",
       "      <td>Scott Pilgrim's Precious Little Life (Scott Pi...</td>\n",
       "      <td>https://books.toscrape.com/catalogue/scott-pil...</td>\n",
       "    </tr>\n",
       "    <tr>\n",
       "      <th>15</th>\n",
       "      <td>Rip it Up and Start Again</td>\n",
       "      <td>https://books.toscrape.com/catalogue/rip-it-up...</td>\n",
       "    </tr>\n",
       "    <tr>\n",
       "      <th>16</th>\n",
       "      <td>Our Band Could Be Your Life: Scenes from the A...</td>\n",
       "      <td>https://books.toscrape.com/catalogue/our-band-...</td>\n",
       "    </tr>\n",
       "    <tr>\n",
       "      <th>17</th>\n",
       "      <td>Olio</td>\n",
       "      <td>https://books.toscrape.com/catalogue/olio_984/...</td>\n",
       "    </tr>\n",
       "    <tr>\n",
       "      <th>18</th>\n",
       "      <td>Mesaerion: The Best Science Fiction Stories 18...</td>\n",
       "      <td>https://books.toscrape.com/catalogue/mesaerion...</td>\n",
       "    </tr>\n",
       "    <tr>\n",
       "      <th>19</th>\n",
       "      <td>Libertarianism for Beginners</td>\n",
       "      <td>https://books.toscrape.com/catalogue/libertari...</td>\n",
       "    </tr>\n",
       "    <tr>\n",
       "      <th>20</th>\n",
       "      <td>It's Only the Himalayas</td>\n",
       "      <td>https://books.toscrape.com/catalogue/its-only-...</td>\n",
       "    </tr>\n",
       "  </tbody>\n",
       "</table>\n",
       "</div>"
      ],
      "text/plain": [
       "                                                 Name  \\\n",
       "1                                A Light in the Attic   \n",
       "2                                  Tipping the Velvet   \n",
       "3                                          Soumission   \n",
       "4                                       Sharp Objects   \n",
       "5               Sapiens: A Brief History of Humankind   \n",
       "6                                     The Requiem Red   \n",
       "7   The Dirty Little Secrets of Getting Your Dream...   \n",
       "8   The Coming Woman: A Novel Based on the Life of...   \n",
       "9   The Boys in the Boat: Nine Americans and Their...   \n",
       "10                                    The Black Maria   \n",
       "11     Starving Hearts (Triangular Trade Trilogy, #1)   \n",
       "12                              Shakespeare's Sonnets   \n",
       "13                                        Set Me Free   \n",
       "14  Scott Pilgrim's Precious Little Life (Scott Pi...   \n",
       "15                          Rip it Up and Start Again   \n",
       "16  Our Band Could Be Your Life: Scenes from the A...   \n",
       "17                                               Olio   \n",
       "18  Mesaerion: The Best Science Fiction Stories 18...   \n",
       "19                       Libertarianism for Beginners   \n",
       "20                            It's Only the Himalayas   \n",
       "\n",
       "                                                  URL  \n",
       "1   https://books.toscrape.com/catalogue/a-light-i...  \n",
       "2   https://books.toscrape.com/catalogue/tipping-t...  \n",
       "3   https://books.toscrape.com/catalogue/soumissio...  \n",
       "4   https://books.toscrape.com/catalogue/sharp-obj...  \n",
       "5   https://books.toscrape.com/catalogue/sapiens-a...  \n",
       "6   https://books.toscrape.com/catalogue/the-requi...  \n",
       "7   https://books.toscrape.com/catalogue/the-dirty...  \n",
       "8   https://books.toscrape.com/catalogue/the-comin...  \n",
       "9   https://books.toscrape.com/catalogue/the-boys-...  \n",
       "10  https://books.toscrape.com/catalogue/the-black...  \n",
       "11  https://books.toscrape.com/catalogue/starving-...  \n",
       "12  https://books.toscrape.com/catalogue/shakespea...  \n",
       "13  https://books.toscrape.com/catalogue/set-me-fr...  \n",
       "14  https://books.toscrape.com/catalogue/scott-pil...  \n",
       "15  https://books.toscrape.com/catalogue/rip-it-up...  \n",
       "16  https://books.toscrape.com/catalogue/our-band-...  \n",
       "17  https://books.toscrape.com/catalogue/olio_984/...  \n",
       "18  https://books.toscrape.com/catalogue/mesaerion...  \n",
       "19  https://books.toscrape.com/catalogue/libertari...  \n",
       "20  https://books.toscrape.com/catalogue/its-only-...  "
      ]
     },
     "execution_count": 74,
     "metadata": {},
     "output_type": "execute_result"
    }
   ],
   "source": [
    "df"
   ]
  },
  {
   "cell_type": "code",
   "execution_count": 75,
   "id": "efbfd7fd",
   "metadata": {},
   "outputs": [],
   "source": [
    "df.to_csv('Books.csv',index=None)"
   ]
  },
  {
   "cell_type": "code",
   "execution_count": 68,
   "id": "a177a0fd",
   "metadata": {},
   "outputs": [
    {
     "name": "stdout",
     "output_type": "stream",
     "text": [
      "https://books.toscrape.com/catalogue/a-light-in-the-attic_1000/index.html\n"
     ]
    }
   ],
   "source": [
    "print(book_webpage[0])"
   ]
  },
  {
   "cell_type": "code",
   "execution_count": 69,
   "id": "ebe7edf8",
   "metadata": {},
   "outputs": [],
   "source": [
    "b_w=book_webpage[0]"
   ]
  },
  {
   "cell_type": "code",
   "execution_count": 70,
   "id": "538aec7f",
   "metadata": {},
   "outputs": [],
   "source": [
    "new_res=requests.get(b_w)"
   ]
  },
  {
   "cell_type": "code",
   "execution_count": 71,
   "id": "fecbf9ca",
   "metadata": {},
   "outputs": [
    {
     "data": {
      "text/plain": [
       "200"
      ]
     },
     "execution_count": 71,
     "metadata": {},
     "output_type": "execute_result"
    }
   ],
   "source": [
    "new_res.status_code"
   ]
  },
  {
   "cell_type": "code",
   "execution_count": 72,
   "id": "54d040d8",
   "metadata": {},
   "outputs": [],
   "source": [
    "dc=BeautifulSoup(new_res.text,'html.parser')"
   ]
  },
  {
   "cell_type": "code",
   "execution_count": 84,
   "id": "7af21971",
   "metadata": {},
   "outputs": [],
   "source": [
    "p_tags=dc.find_all('p')"
   ]
  },
  {
   "cell_type": "code",
   "execution_count": 92,
   "id": "7f0db2f2",
   "metadata": {},
   "outputs": [
    {
     "data": {
      "text/plain": [
       "\"It's hard to imagine a world without A Light in the Attic. This now-classic collection of poetry and drawings from Shel Silverstein celebrates its 20th anniversary with this special edition. Silverstein's humorous and creative verse can amuse the dowdiest of readers. Lemon-faced adults and fidgety kids sit still and read these rhythmic words and laugh and smile and love th It's hard to imagine a world without A Light in the Attic. This now-classic collection of poetry and drawings from Shel Silverstein celebrates its 20th anniversary with this special edition. Silverstein's humorous and creative verse can amuse the dowdiest of readers. Lemon-faced adults and fidgety kids sit still and read these rhythmic words and laugh and smile and love that Silverstein. Need proof of his genius? RockabyeRockabye baby, in the treetopDon't you know a treetopIs no safe place to rock?And who put you up there,And your cradle, too?Baby, I think someone down here'sGot it in for you. Shel, you never sounded so good. ...more\""
      ]
     },
     "execution_count": 92,
     "metadata": {},
     "output_type": "execute_result"
    }
   ],
   "source": [
    "p_tags[3].text"
   ]
  },
  {
   "cell_type": "code",
   "execution_count": 99,
   "id": "492b2de0",
   "metadata": {},
   "outputs": [],
   "source": [
    "star_tag=dc.find_all('div',{'class':\"col-sm-6 product_main\"})"
   ]
  },
  {
   "cell_type": "code",
   "execution_count": 195,
   "id": "9ac2a0b1",
   "metadata": {},
   "outputs": [
    {
     "data": {
      "text/plain": [
       "'Â£51.77'"
      ]
     },
     "execution_count": 195,
     "metadata": {},
     "output_type": "execute_result"
    }
   ],
   "source": [
    "star_tag[0].find('p').text"
   ]
  },
  {
   "cell_type": "code",
   "execution_count": 200,
   "id": "ae6dd950",
   "metadata": {},
   "outputs": [
    {
     "data": {
      "text/plain": [
       "'£51.77'"
      ]
     },
     "execution_count": 200,
     "metadata": {},
     "output_type": "execute_result"
    }
   ],
   "source": [
    "star_tag[0].find_all('p',{'class':'price_color'})[0].text[1:]"
   ]
  },
  {
   "cell_type": "code",
   "execution_count": 182,
   "id": "447c7aff",
   "metadata": {},
   "outputs": [
    {
     "data": {
      "text/plain": [
       "'A Light in the Attic'"
      ]
     },
     "execution_count": 182,
     "metadata": {},
     "output_type": "execute_result"
    }
   ],
   "source": [
    "star_tag[0].h1.text.strip()"
   ]
  },
  {
   "cell_type": "code",
   "execution_count": 203,
   "id": "bc4bb8fa",
   "metadata": {},
   "outputs": [
    {
     "data": {
      "text/plain": [
       "'In stock (22 available)'"
      ]
     },
     "execution_count": 203,
     "metadata": {},
     "output_type": "execute_result"
    }
   ],
   "source": [
    "star_tag[0].find_all('p',{'class':'instock'})[0].text.strip()"
   ]
  },
  {
   "cell_type": "code",
   "execution_count": 136,
   "id": "3c435d98",
   "metadata": {},
   "outputs": [],
   "source": [
    "star_rating=star_tag[0].find_all('p')[2]['class'][1]"
   ]
  },
  {
   "cell_type": "code",
   "execution_count": 215,
   "id": "cd14ff74",
   "metadata": {},
   "outputs": [
    {
     "data": {
      "text/plain": [
       "'Three'"
      ]
     },
     "execution_count": 215,
     "metadata": {},
     "output_type": "execute_result"
    }
   ],
   "source": [
    "star_rating"
   ]
  },
  {
   "cell_type": "code",
   "execution_count": 1,
   "id": "2e3b4284",
   "metadata": {},
   "outputs": [],
   "source": [
    "import csv\n",
    "import re"
   ]
  },
  {
   "cell_type": "code",
   "execution_count": 147,
   "id": "3d4be693",
   "metadata": {},
   "outputs": [],
   "source": [
    "def get_page_details(book_url):\n",
    "    \n",
    "    #get the page\n",
    "    res=requests.get(book_url)\n",
    "    \n",
    "    #check the status of response\n",
    "    if res.status_code != 200:\n",
    "        raise Exception('Failed to load page {}.format(book_url)')\n",
    "    \n",
    "    #convert into BS4 for parsing\n",
    "    book_page_doc=BeautifulSoup(res.text,'html.parser')\n",
    "    \n",
    "    return book_page_doc\n",
    "\n",
    "\n",
    "def get_book_details(page_doc):\n",
    "    \n",
    "    # get the name, stars, price and availability\n",
    "    tag=page_doc.find_all('div',{'class':\"col-sm-6 product_main\"})\n",
    "    Name=tag[0].h1.text.strip()\n",
    "    Stars=tag[0].find_all('p')[2]['class'][1]\n",
    "    Price=tag[0].find('p',{'class':'price_color'}).text[1:]\n",
    "    Availability=tag[0].find_all('p',{'class':'instock'})[0].text.strip()\n",
    "    \n",
    "    #get genre\n",
    "    gen=page_doc.find_all('ul',{'class':'breadcrumb'})\n",
    "    Genre=gen[0].find_all('a')[2].text.strip()\n",
    "    \n",
    "    #get description\n",
    "    p_tags=page_doc.find_all('p')\n",
    "    Description=p_tags[3].text.strip()\n",
    "    \n",
    "    #get UPC\n",
    "    details=page_doc.find_all('table',{'class':'table table-striped'})\n",
    "    UPC=details[0].find_all('tr')[0].text.strip()[3:]\n",
    "    \n",
    "    return [UPC,Name,Genre,Stars,Price,Availability,Description]\n",
    "\n",
    "def write_to_csv(url):\n",
    "    \n",
    "    #get the parser page\n",
    "    doc_parse=get_page_details(url)\n",
    "    \n",
    "    #get all the details in UPC, Name, Genre, Stars, Price, Availability, Description order\n",
    "    detail_list=get_book_details(doc_parse)\n",
    "    \n",
    "    #to store the name of the book\n",
    "    N=re.findall(r\"[^: ]+\",detail_list[1])\n",
    "    N=' '.join(N)\n",
    "    \n",
    "    #writing to CSV\n",
    "    fto=open(N+'.csv',mode='w',encoding='UTF-8')\n",
    "    csv_writer=csv.writer(fto,delimiter=',')\n",
    "    csv_writer.writerows([['UPC', 'Name', 'Genre', 'Stars', 'Price', 'Availability', 'Description'],[detail_list[0],detail_list[1],detail_list[2],detail_list[3],detail_list[4],detail_list[5],detail_list[6]]])\n",
    "    #closing the CSV\n",
    "    fto.close()"
   ]
  },
  {
   "cell_type": "code",
   "execution_count": 53,
   "id": "d8bc66ed",
   "metadata": {},
   "outputs": [],
   "source": [
    "def scrape_books():\n",
    "    page_url='https://books.toscrape.com/'\n",
    "    \n",
    "    #get the page\n",
    "    response=requests.get(page_url)\n",
    "    \n",
    "    #check the status of response\n",
    "    if response.status_code != 200:\n",
    "        raise Exception('Failed to load home page {}.format(page_url)')\n",
    "    \n",
    "    #convert into BS4 for parsing\n",
    "    homepage_doc=BeautifulSoup(res.text,'html.parser')\n",
    "    \n",
    "    return homepage_doc\n",
    "\n",
    "\n",
    "def get_bookurl(homepage_doc):\n",
    "    \n",
    "    #initializing lists\n",
    "    book_names=[]\n",
    "    book_webpage=[]\n",
    "    \n",
    "    #get all the books' name and url\n",
    "    for i in range(0,20):\n",
    "        book_names.append(h3_tags[i].a['title'])\n",
    "        book_webpage.append('https://books.toscrape.com/'+h3_tags[i].a['href'])\n",
    "        \n",
    "    return [book_names,book_webpage]\n",
    "\n",
    "\n",
    "def creating_csvs():\n",
    "    i=scrape_books()\n",
    "    the_lists=get_bookurl(i)\n",
    "    \n",
    "    #create dataframe using pandas\n",
    "    dict1={'Name':book_names,\"URL\":book_webpage}\n",
    "    df=pd.DataFrame(dict1,index=list(range(1,21)))\n",
    "    \n",
    "    print(\"Creating Books.csv .....\")\n",
    "    #create csv\n",
    "    df.to_csv('Books.csv',index=None)\n",
    "    \n",
    "    #Scraping the book webpages\n",
    "    for i in range(0,20):\n",
    "        print(\"Scraping {}\".format(the_lists[0][i]))\n",
    "        write_to_csv(the_lists[1][i])\n"
   ]
  },
  {
   "cell_type": "code",
   "execution_count": 54,
   "id": "81eeb9ce",
   "metadata": {},
   "outputs": [],
   "source": [
    "write_to_csv('https://books.toscrape.com/catalogue/mesaerion-the-best-science-fiction-stories-1800-1849_983/index.html')"
   ]
  },
  {
   "cell_type": "markdown",
   "id": "d8a63ed0",
   "metadata": {},
   "source": [
    "### Scraping quotes.toscrape.com"
   ]
  },
  {
   "cell_type": "code",
   "execution_count": 5,
   "id": "ca8e403c",
   "metadata": {},
   "outputs": [],
   "source": [
    "res=requests.get('https://quotes.toscrape.com/')"
   ]
  },
  {
   "cell_type": "code",
   "execution_count": 6,
   "id": "191ef013",
   "metadata": {},
   "outputs": [
    {
     "data": {
      "text/plain": [
       "200"
      ]
     },
     "execution_count": 6,
     "metadata": {},
     "output_type": "execute_result"
    }
   ],
   "source": [
    "res.status_code"
   ]
  },
  {
   "cell_type": "code",
   "execution_count": 7,
   "id": "82099f06",
   "metadata": {},
   "outputs": [],
   "source": [
    "soup=BeautifulSoup(res.text,'html.parser')"
   ]
  },
  {
   "cell_type": "code",
   "execution_count": 10,
   "id": "c8862577",
   "metadata": {},
   "outputs": [],
   "source": [
    "s=soup.find_all('span',{'class':'tag-item'})"
   ]
  },
  {
   "cell_type": "code",
   "execution_count": 11,
   "id": "147435eb",
   "metadata": {},
   "outputs": [
    {
     "data": {
      "text/plain": [
       "10"
      ]
     },
     "execution_count": 11,
     "metadata": {},
     "output_type": "execute_result"
    }
   ],
   "source": [
    "len(s)"
   ]
  },
  {
   "cell_type": "code",
   "execution_count": 14,
   "id": "862969b7",
   "metadata": {},
   "outputs": [
    {
     "data": {
      "text/plain": [
       "'love'"
      ]
     },
     "execution_count": 14,
     "metadata": {},
     "output_type": "execute_result"
    }
   ],
   "source": [
    "s[0].text.strip()"
   ]
  },
  {
   "cell_type": "code",
   "execution_count": 15,
   "id": "fbdccd01",
   "metadata": {},
   "outputs": [
    {
     "data": {
      "text/plain": [
       "'/tag/love/'"
      ]
     },
     "execution_count": 15,
     "metadata": {},
     "output_type": "execute_result"
    }
   ],
   "source": [
    "s[0].a['href']"
   ]
  },
  {
   "cell_type": "code",
   "execution_count": 16,
   "id": "c5b91e2f",
   "metadata": {},
   "outputs": [],
   "source": [
    "q='https://quotes.toscrape.com'+s[0].a['href']"
   ]
  },
  {
   "cell_type": "code",
   "execution_count": 17,
   "id": "b887b759",
   "metadata": {},
   "outputs": [
    {
     "data": {
      "text/plain": [
       "'https://quotes.toscrape.com/tag/love/'"
      ]
     },
     "execution_count": 17,
     "metadata": {},
     "output_type": "execute_result"
    }
   ],
   "source": [
    "q"
   ]
  },
  {
   "cell_type": "code",
   "execution_count": 18,
   "id": "7f4ec0b0",
   "metadata": {},
   "outputs": [
    {
     "name": "stdout",
     "output_type": "stream",
     "text": [
      "https://quotes.toscrape.com/tag/love/\n"
     ]
    }
   ],
   "source": [
    "print(q)"
   ]
  },
  {
   "cell_type": "code",
   "execution_count": 21,
   "id": "5ae569cc",
   "metadata": {},
   "outputs": [],
   "source": [
    "quotes_name=[]\n",
    "quotes_url=[]\n",
    "\n",
    "tag=soup.find_all('span',{'class':'tag-item'})\n",
    "for i in range(0,10):\n",
    "    quotes_name.append(tag[i].text.strip())\n",
    "    quotes_url.append('https://quotes.toscrape.com/'+tag[i].a['href'])"
   ]
  },
  {
   "cell_type": "code",
   "execution_count": 22,
   "id": "a5cc3775",
   "metadata": {},
   "outputs": [
    {
     "data": {
      "text/plain": [
       "['love',\n",
       " 'inspirational',\n",
       " 'life',\n",
       " 'humor',\n",
       " 'books',\n",
       " 'reading',\n",
       " 'friendship',\n",
       " 'friends',\n",
       " 'truth',\n",
       " 'simile']"
      ]
     },
     "execution_count": 22,
     "metadata": {},
     "output_type": "execute_result"
    }
   ],
   "source": [
    "quotes_name"
   ]
  },
  {
   "cell_type": "code",
   "execution_count": 25,
   "id": "2f046d80",
   "metadata": {},
   "outputs": [
    {
     "name": "stdout",
     "output_type": "stream",
     "text": [
      "https://quotes.toscrape.com//tag/books/\n"
     ]
    }
   ],
   "source": [
    "print(quotes_url[4])"
   ]
  },
  {
   "cell_type": "code",
   "execution_count": 26,
   "id": "96be5bc1",
   "metadata": {},
   "outputs": [],
   "source": [
    "response=requests.get(quotes_url[4])"
   ]
  },
  {
   "cell_type": "code",
   "execution_count": 27,
   "id": "9e31be2f",
   "metadata": {},
   "outputs": [
    {
     "data": {
      "text/plain": [
       "200"
      ]
     },
     "execution_count": 27,
     "metadata": {},
     "output_type": "execute_result"
    }
   ],
   "source": [
    "response.status_code"
   ]
  },
  {
   "cell_type": "code",
   "execution_count": 28,
   "id": "0f4c80c0",
   "metadata": {},
   "outputs": [],
   "source": [
    "sop=BeautifulSoup(response.text,'html.parser')"
   ]
  },
  {
   "cell_type": "code",
   "execution_count": 30,
   "id": "64a67b08",
   "metadata": {},
   "outputs": [],
   "source": [
    "qwe=sop.find_all('div',{'class':'quote'})"
   ]
  },
  {
   "cell_type": "code",
   "execution_count": 31,
   "id": "7abeddbe",
   "metadata": {},
   "outputs": [
    {
     "data": {
      "text/plain": [
       "10"
      ]
     },
     "execution_count": 31,
     "metadata": {},
     "output_type": "execute_result"
    }
   ],
   "source": [
    "len(qwe)"
   ]
  },
  {
   "cell_type": "code",
   "execution_count": 41,
   "id": "784f467c",
   "metadata": {},
   "outputs": [
    {
     "data": {
      "text/plain": [
       "'“The person, be it gentleman or lady, who has not pleasure in a good novel, must be intolerably stupid.”'"
      ]
     },
     "execution_count": 41,
     "metadata": {},
     "output_type": "execute_result"
    }
   ],
   "source": [
    "qwe[0].find('span',{'class':'text'}).text.strip()"
   ]
  },
  {
   "cell_type": "code",
   "execution_count": 62,
   "id": "66aadca0",
   "metadata": {},
   "outputs": [
    {
     "data": {
      "text/plain": [
       "'Jane Austen'"
      ]
     },
     "execution_count": 62,
     "metadata": {},
     "output_type": "execute_result"
    }
   ],
   "source": [
    "qwe[0].find_all('span')[1].small.text.strip()"
   ]
  },
  {
   "cell_type": "code",
   "execution_count": 64,
   "id": "39dd4b6e",
   "metadata": {},
   "outputs": [
    {
     "data": {
      "text/plain": [
       "'/author/Jane-Austen'"
      ]
     },
     "execution_count": 64,
     "metadata": {},
     "output_type": "execute_result"
    }
   ],
   "source": [
    "qwe[0].find_all('span')[1].a['href']"
   ]
  },
  {
   "cell_type": "code",
   "execution_count": 132,
   "id": "20170d29",
   "metadata": {},
   "outputs": [
    {
     "data": {
      "text/plain": [
       "'aliteracy,books,classic,humor'"
      ]
     },
     "execution_count": 132,
     "metadata": {},
     "output_type": "execute_result"
    }
   ],
   "source": [
    "qwe[0].find_all('div',{'class':'tags'})[0].meta['content']"
   ]
  },
  {
   "cell_type": "code",
   "execution_count": 100,
   "id": "9f7b5d1b",
   "metadata": {},
   "outputs": [],
   "source": [
    "b=qwe[0].find('div',{'class':'tags'})"
   ]
  },
  {
   "cell_type": "code",
   "execution_count": 110,
   "id": "98be48f8",
   "metadata": {},
   "outputs": [
    {
     "data": {
      "text/plain": [
       "4"
      ]
     },
     "execution_count": 110,
     "metadata": {},
     "output_type": "execute_result"
    }
   ],
   "source": [
    "len(b.find_all('a',{'class':'tag'}))"
   ]
  },
  {
   "cell_type": "code",
   "execution_count": 131,
   "id": "fa88037d",
   "metadata": {},
   "outputs": [
    {
     "data": {
      "text/plain": [
       "'/tag/aliteracy/page/1/'"
      ]
     },
     "execution_count": 131,
     "metadata": {},
     "output_type": "execute_result"
    }
   ],
   "source": [
    "b.find_all('a',{'class':'tag'})[0]['href']"
   ]
  },
  {
   "cell_type": "code",
   "execution_count": 164,
   "id": "e52be394",
   "metadata": {},
   "outputs": [],
   "source": [
    "import os\n",
    "import re"
   ]
  },
  {
   "cell_type": "code",
   "execution_count": 180,
   "id": "e2feb11e",
   "metadata": {},
   "outputs": [],
   "source": [
    "def get_page_details(quote_url):\n",
    "    \n",
    "    #get the page\n",
    "    res=requests.get(quote_url)\n",
    "    \n",
    "    #check the status of response\n",
    "    if res.status_code != 200:\n",
    "        raise Exception('Failed to load page {}'.format(quote_url))\n",
    "    \n",
    "    #convert into BS4 for parsing\n",
    "    quote_page_doc=BeautifulSoup(res.text,'html.parser')\n",
    "    \n",
    "    return quote_page_doc\n",
    "\n",
    "\n",
    "def get_quote_details(quote_doc):\n",
    "    \n",
    "    #get all the quotes\n",
    "    quo_tags=sop.find_all('div',{'class':'quote'})\n",
    "    \n",
    "    #initializing lists\n",
    "    quotes=[]\n",
    "    auth_name=[]\n",
    "    about_auth=[]\n",
    "    tags=[]\n",
    "    \n",
    "    #getting details\n",
    "    for i in range(0,len(quo_tags)):\n",
    "        quotes.append(quo_tags[i].find('span',{'class':'text'}).text.strip())\n",
    "        auth_name.append(quo_tags[i].find_all('span')[1].small.text.strip())\n",
    "        about_auth.append('https://quotes.toscrape.com/'+quo_tags[i].find_all('span')[1].a['href'])\n",
    "        t=':'.join(re.findall(r'[^, ]+',quo_tags[i].find_all('div',{'class':'tags'})[0].meta['content']))\n",
    "        tags.append(t)\n",
    "        \n",
    "    return [quotes,auth_name,about_auth,tags]\n",
    "\n",
    "\n",
    "def write_to_csv(url,quote_name):\n",
    "\n",
    "    #get the parser page\n",
    "    doc_parse=get_page_details(url)\n",
    "    \n",
    "    #get all the details in UPC, Name, Genre, Stars, Price, Availability, Description order\n",
    "    detail_list=get_quote_details(doc_parse)\n",
    "    \n",
    "    #creating directory to store data\n",
    "    os.makedirs('Data',exist_ok=True)\n",
    "    \n",
    "    #checking if file already exists in case of failures\n",
    "    fname='Data'+'/'+quote_name+'.csv'\n",
    "    if os.path.exists(fname):\n",
    "        print(\"The file {} already exists....Skipping\".format(fname))\n",
    "        return\n",
    "    \n",
    "    #create dataframe using pandas\n",
    "    dict2={'Quote':detail_list[0],\"Author\":detail_list[1],'About the Author':detail_list[2],'Other Tags':detail_list[3]}\n",
    "    df=pd.DataFrame(dict2,index=list(range(1,11)))\n",
    "    \n",
    "    #creating CSV file\n",
    "    print(\"Creating {} .....\".format(fname))\n",
    "    df.to_csv(fname,index=None)"
   ]
  },
  {
   "cell_type": "code",
   "execution_count": 181,
   "id": "927bf563",
   "metadata": {},
   "outputs": [],
   "source": [
    "def scrape_quotes(page_url):\n",
    "    \n",
    "    #get the page\n",
    "    response=requests.get(page_url)\n",
    "    \n",
    "    #check the status of response\n",
    "    if response.status_code != 200:\n",
    "        raise Exception('Failed to load home page {}'.format(page_url))\n",
    "    \n",
    "    #convert into BS4 for parsing\n",
    "    homepage_doc=BeautifulSoup(response.text,'html.parser')\n",
    "    \n",
    "    return homepage_doc\n",
    "\n",
    "\n",
    "def get_quoteurl(homepage_doc):\n",
    "    \n",
    "    #initializing lists\n",
    "    quote_names=[]\n",
    "    quote_webpage=[]\n",
    "    \n",
    "    #get tags of the quotes\n",
    "    ttags=homepage_doc.find_all('span',{'class':'tag-item'})\n",
    "    #get all the quotes' name and url\n",
    "    for i in range(0,len(ttags)):\n",
    "        quote_names.append(ttags[i].text.strip())\n",
    "        quote_webpage.append('https://quotes.toscrape.com/'+ttags[i].a['href'])\n",
    "        \n",
    "    return [quote_names,quote_webpage]\n",
    "\n",
    "\n",
    "def driver(url):\n",
    "    i=scrape_quotes(url)\n",
    "    the_lists=get_quoteurl(i)\n",
    "    \n",
    "    #create dataframe using pandas\n",
    "    dict1={'Quote Tag':the_lists[0],\"URL\":the_lists[1]}\n",
    "    df=pd.DataFrame(dict1,index=list(range(1,11)))\n",
    "\n",
    "    #create csv\n",
    "    if os.path.exists('Quotes.csv'):\n",
    "        print(\"The file {} already exists.....Skipping\".format('Quotes.csv'))\n",
    "    else:\n",
    "        print(\"Creating Quotes.csv .....\")\n",
    "        df.to_csv('Quotes.csv',index=None)\n",
    "    \n",
    "    #Scraping the quote webpages\n",
    "    for i in range(0,10):\n",
    "        print(\"Scraping {}\".format(the_lists[0][i]))\n",
    "        write_to_csv(the_lists[1][i],the_lists[0][i])\n"
   ]
  },
  {
   "cell_type": "code",
   "execution_count": 182,
   "id": "6c064fc9",
   "metadata": {},
   "outputs": [],
   "source": [
    "def main():\n",
    "    #getting all the quote tags\n",
    "    driver('https://quotes.toscrape.com/')\n",
    "    print('Done!!')"
   ]
  },
  {
   "cell_type": "code",
   "execution_count": 183,
   "id": "89eec3da",
   "metadata": {},
   "outputs": [
    {
     "name": "stdout",
     "output_type": "stream",
     "text": [
      "The file Quotes.csv already exists.....Skipping\n",
      "Scraping love\n",
      "Creating Data/love.csv .....\n",
      "Scraping inspirational\n",
      "Creating Data/inspirational.csv .....\n",
      "Scraping life\n",
      "Creating Data/life.csv .....\n",
      "Scraping humor\n",
      "Creating Data/humor.csv .....\n",
      "Scraping books\n",
      "Creating Data/books.csv .....\n",
      "Scraping reading\n",
      "Creating Data/reading.csv .....\n",
      "Scraping friendship\n",
      "Creating Data/friendship.csv .....\n",
      "Scraping friends\n",
      "Creating Data/friends.csv .....\n",
      "Scraping truth\n",
      "Creating Data/truth.csv .....\n",
      "Scraping simile\n",
      "Creating Data/simile.csv .....\n",
      "Done!!\n"
     ]
    }
   ],
   "source": [
    "import requests\n",
    "from bs4 import BeautifulSoup\n",
    "import csv\n",
    "import pandas as pd\n",
    "import re\n",
    "import os\n",
    "main()"
   ]
  },
  {
   "cell_type": "code",
   "execution_count": null,
   "id": "3d4db421",
   "metadata": {},
   "outputs": [],
   "source": []
  }
 ],
 "metadata": {
  "kernelspec": {
   "display_name": "Python 3",
   "language": "python",
   "name": "python3"
  },
  "language_info": {
   "codemirror_mode": {
    "name": "ipython",
    "version": 3
   },
   "file_extension": ".py",
   "mimetype": "text/x-python",
   "name": "python",
   "nbconvert_exporter": "python",
   "pygments_lexer": "ipython3",
   "version": "3.8.8"
  }
 },
 "nbformat": 4,
 "nbformat_minor": 5
}
